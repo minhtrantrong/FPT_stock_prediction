{
 "cells": [
  {
   "cell_type": "code",
   "execution_count": 1,
   "source": [
    "import psycopg2"
   ],
   "outputs": [],
   "metadata": {}
  },
  {
   "cell_type": "code",
   "execution_count": 13,
   "source": [
    "pg_config = \"dbname=stock user=postgres password=123qwe host=127.0.0.1 port=5432\"\r\n",
    "pg_conn = psycopg2.connect(pg_config)\r\n",
    "print(\"PostgreSQL DB connected\")\r\n"
   ],
   "outputs": [
    {
     "output_type": "stream",
     "name": "stdout",
     "text": [
      "PostgreSQL DB connected\n"
     ]
    }
   ],
   "metadata": {}
  },
  {
   "cell_type": "code",
   "execution_count": 14,
   "source": [
    "# Open a cursor to perform database operations\r\n",
    "pg_cursor = pg_conn.cursor()"
   ],
   "outputs": [],
   "metadata": {}
  },
  {
   "cell_type": "code",
   "execution_count": 15,
   "source": [
    "query = \"CREATE TABLE fpt \\\r\n",
    "            (date                     VARCHAR(40) UNIQUE    NOT NULL, \\\r\n",
    "            open_price                BIGINT               NOT NULL, \\\r\n",
    "            close_price               BIGINT               NOT NULL, \\\r\n",
    "            highest_price             BIGINT               NOT NULL, \\\r\n",
    "            lowest_price              BIGINT               NOT NULL, \\\r\n",
    "            change                    REAL                 NOT NULL, \\\r\n",
    "            ex_match                  BIGINT               NOT NULL, \\\r\n",
    "            ex_value                  BIGINT               NOT NULL, \\\r\n",
    "            deal_match                BIGINT               NOT NULL, \\\r\n",
    "            deal_value                BIGINT               NOT NULL);\""
   ],
   "outputs": [],
   "metadata": {}
  },
  {
   "cell_type": "code",
   "execution_count": 16,
   "source": [
    "pg_cursor.execute(query)"
   ],
   "outputs": [],
   "metadata": {}
  },
  {
   "cell_type": "code",
   "execution_count": 17,
   "source": [
    "pg_conn.commit()\r\n",
    "pg_conn.close()"
   ],
   "outputs": [],
   "metadata": {}
  }
 ],
 "metadata": {
  "orig_nbformat": 4,
  "language_info": {
   "name": "python",
   "version": "3.8.8",
   "mimetype": "text/x-python",
   "codemirror_mode": {
    "name": "ipython",
    "version": 3
   },
   "pygments_lexer": "ipython3",
   "nbconvert_exporter": "python",
   "file_extension": ".py"
  },
  "kernelspec": {
   "name": "python3",
   "display_name": "Python 3.8.8 64-bit ('base': conda)"
  },
  "interpreter": {
   "hash": "cb5e3185a046c85dd25ce0a5f4f24db93d8d41f26ad2f2bd4fc5c1ae81f2b499"
  }
 },
 "nbformat": 4,
 "nbformat_minor": 2
}