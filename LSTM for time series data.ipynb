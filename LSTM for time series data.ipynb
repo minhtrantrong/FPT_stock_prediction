{
 "cells": [
  {
   "cell_type": "code",
   "execution_count": 1,
   "source": [
    "import numpy as np\r\n",
    "import matplotlib.pyplot as plt\r\n",
    "import os\r\n",
    "import pandas as pd"
   ],
   "outputs": [],
   "metadata": {}
  },
  {
   "cell_type": "code",
   "execution_count": null,
   "source": [],
   "outputs": [],
   "metadata": {}
  },
  {
   "cell_type": "code",
   "execution_count": 2,
   "source": [
    "# Install Tensorflow first with pip: \"pip install tensorflow --user\"\r\n",
    "from tensorflow.keras.models import Sequential\r\n",
    "from tensorflow.keras.layers import Dense, LSTM\r\n",
    "from sklearn.preprocessing import MinMaxScaler\r\n",
    "from sklearn.metrics import mean_squared_error\r\n"
   ],
   "outputs": [],
   "metadata": {}
  },
  {
   "cell_type": "code",
   "execution_count": 3,
   "source": [
    "data_dir = \"D:\\\\FGW\\\\GDRIVE\\\\My BI\\\\Data\"\r\n",
    "csv_file = \"TESLA_STOCK_2010_2020.csv\"\r\n",
    "csv_path = os.path.join(data_dir, csv_file)"
   ],
   "outputs": [],
   "metadata": {}
  },
  {
   "cell_type": "code",
   "execution_count": 4,
   "source": [
    "stock_df = pd.read_csv(csv_path,  parse_dates = True, index_col=0)\r\n",
    "#stock_df = pd.read_csv(csv_path,  parse_dates = True)"
   ],
   "outputs": [],
   "metadata": {}
  },
  {
   "cell_type": "code",
   "execution_count": 5,
   "source": [
    "stock_df.head(5)"
   ],
   "outputs": [
    {
     "output_type": "execute_result",
     "data": {
      "text/html": [
       "<div>\n",
       "<style scoped>\n",
       "    .dataframe tbody tr th:only-of-type {\n",
       "        vertical-align: middle;\n",
       "    }\n",
       "\n",
       "    .dataframe tbody tr th {\n",
       "        vertical-align: top;\n",
       "    }\n",
       "\n",
       "    .dataframe thead th {\n",
       "        text-align: right;\n",
       "    }\n",
       "</style>\n",
       "<table border=\"1\" class=\"dataframe\">\n",
       "  <thead>\n",
       "    <tr style=\"text-align: right;\">\n",
       "      <th></th>\n",
       "      <th>Open</th>\n",
       "      <th>High</th>\n",
       "      <th>Low</th>\n",
       "      <th>Close</th>\n",
       "      <th>Adj Close</th>\n",
       "      <th>Volume</th>\n",
       "    </tr>\n",
       "    <tr>\n",
       "      <th>Date</th>\n",
       "      <th></th>\n",
       "      <th></th>\n",
       "      <th></th>\n",
       "      <th></th>\n",
       "      <th></th>\n",
       "      <th></th>\n",
       "    </tr>\n",
       "  </thead>\n",
       "  <tbody>\n",
       "    <tr>\n",
       "      <th>2010-06-29</th>\n",
       "      <td>19.000000</td>\n",
       "      <td>25.00</td>\n",
       "      <td>17.540001</td>\n",
       "      <td>23.889999</td>\n",
       "      <td>23.889999</td>\n",
       "      <td>18766300</td>\n",
       "    </tr>\n",
       "    <tr>\n",
       "      <th>2010-06-30</th>\n",
       "      <td>25.790001</td>\n",
       "      <td>30.42</td>\n",
       "      <td>23.299999</td>\n",
       "      <td>23.830000</td>\n",
       "      <td>23.830000</td>\n",
       "      <td>17187100</td>\n",
       "    </tr>\n",
       "    <tr>\n",
       "      <th>2010-07-01</th>\n",
       "      <td>25.000000</td>\n",
       "      <td>25.92</td>\n",
       "      <td>20.270000</td>\n",
       "      <td>21.959999</td>\n",
       "      <td>21.959999</td>\n",
       "      <td>8218800</td>\n",
       "    </tr>\n",
       "    <tr>\n",
       "      <th>2010-07-02</th>\n",
       "      <td>23.000000</td>\n",
       "      <td>23.10</td>\n",
       "      <td>18.709999</td>\n",
       "      <td>19.200001</td>\n",
       "      <td>19.200001</td>\n",
       "      <td>5139800</td>\n",
       "    </tr>\n",
       "    <tr>\n",
       "      <th>2010-07-06</th>\n",
       "      <td>20.000000</td>\n",
       "      <td>20.00</td>\n",
       "      <td>15.830000</td>\n",
       "      <td>16.110001</td>\n",
       "      <td>16.110001</td>\n",
       "      <td>6866900</td>\n",
       "    </tr>\n",
       "  </tbody>\n",
       "</table>\n",
       "</div>"
      ],
      "text/plain": [
       "                 Open   High        Low      Close  Adj Close    Volume\n",
       "Date                                                                   \n",
       "2010-06-29  19.000000  25.00  17.540001  23.889999  23.889999  18766300\n",
       "2010-06-30  25.790001  30.42  23.299999  23.830000  23.830000  17187100\n",
       "2010-07-01  25.000000  25.92  20.270000  21.959999  21.959999   8218800\n",
       "2010-07-02  23.000000  23.10  18.709999  19.200001  19.200001   5139800\n",
       "2010-07-06  20.000000  20.00  15.830000  16.110001  16.110001   6866900"
      ]
     },
     "metadata": {},
     "execution_count": 5
    }
   ],
   "metadata": {}
  },
  {
   "cell_type": "code",
   "execution_count": 6,
   "source": [
    "stock_df.columns"
   ],
   "outputs": [
    {
     "output_type": "execute_result",
     "data": {
      "text/plain": [
       "Index(['Open', 'High', 'Low', 'Close', 'Adj Close', 'Volume'], dtype='object')"
      ]
     },
     "metadata": {},
     "execution_count": 6
    }
   ],
   "metadata": {}
  },
  {
   "cell_type": "code",
   "execution_count": 7,
   "source": [
    "stock_df.index.name"
   ],
   "outputs": [
    {
     "output_type": "execute_result",
     "data": {
      "text/plain": [
       "'Date'"
      ]
     },
     "metadata": {},
     "execution_count": 7
    }
   ],
   "metadata": {}
  },
  {
   "cell_type": "code",
   "execution_count": 8,
   "source": [
    "print('First observation date: %s \\nLast observation date: %s' % (stock_df.index[0].date(), stock_df.index[-1].date()))"
   ],
   "outputs": [
    {
     "output_type": "stream",
     "name": "stdout",
     "text": [
      "First observation date: 2010-06-29 \n",
      "Last observation date: 2020-02-03\n"
     ]
    }
   ],
   "metadata": {}
  },
  {
   "cell_type": "code",
   "execution_count": 9,
   "source": [
    "stock_df.info()"
   ],
   "outputs": [
    {
     "output_type": "stream",
     "name": "stdout",
     "text": [
      "<class 'pandas.core.frame.DataFrame'>\n",
      "DatetimeIndex: 2416 entries, 2010-06-29 to 2020-02-03\n",
      "Data columns (total 6 columns):\n",
      " #   Column     Non-Null Count  Dtype  \n",
      "---  ------     --------------  -----  \n",
      " 0   Open       2416 non-null   float64\n",
      " 1   High       2416 non-null   float64\n",
      " 2   Low        2416 non-null   float64\n",
      " 3   Close      2416 non-null   float64\n",
      " 4   Adj Close  2416 non-null   float64\n",
      " 5   Volume     2416 non-null   int64  \n",
      "dtypes: float64(5), int64(1)\n",
      "memory usage: 132.1 KB\n"
     ]
    }
   ],
   "metadata": {}
  },
  {
   "cell_type": "code",
   "execution_count": 10,
   "source": [
    "stock_df.describe()"
   ],
   "outputs": [
    {
     "output_type": "execute_result",
     "data": {
      "text/html": [
       "<div>\n",
       "<style scoped>\n",
       "    .dataframe tbody tr th:only-of-type {\n",
       "        vertical-align: middle;\n",
       "    }\n",
       "\n",
       "    .dataframe tbody tr th {\n",
       "        vertical-align: top;\n",
       "    }\n",
       "\n",
       "    .dataframe thead th {\n",
       "        text-align: right;\n",
       "    }\n",
       "</style>\n",
       "<table border=\"1\" class=\"dataframe\">\n",
       "  <thead>\n",
       "    <tr style=\"text-align: right;\">\n",
       "      <th></th>\n",
       "      <th>Open</th>\n",
       "      <th>High</th>\n",
       "      <th>Low</th>\n",
       "      <th>Close</th>\n",
       "      <th>Adj Close</th>\n",
       "      <th>Volume</th>\n",
       "    </tr>\n",
       "  </thead>\n",
       "  <tbody>\n",
       "    <tr>\n",
       "      <th>count</th>\n",
       "      <td>2416.000000</td>\n",
       "      <td>2416.000000</td>\n",
       "      <td>2416.000000</td>\n",
       "      <td>2416.000000</td>\n",
       "      <td>2416.000000</td>\n",
       "      <td>2.416000e+03</td>\n",
       "    </tr>\n",
       "    <tr>\n",
       "      <th>mean</th>\n",
       "      <td>186.271147</td>\n",
       "      <td>189.578224</td>\n",
       "      <td>182.916639</td>\n",
       "      <td>186.403651</td>\n",
       "      <td>186.403651</td>\n",
       "      <td>5.572722e+06</td>\n",
       "    </tr>\n",
       "    <tr>\n",
       "      <th>std</th>\n",
       "      <td>118.740163</td>\n",
       "      <td>120.892329</td>\n",
       "      <td>116.857591</td>\n",
       "      <td>119.136020</td>\n",
       "      <td>119.136020</td>\n",
       "      <td>4.987809e+06</td>\n",
       "    </tr>\n",
       "    <tr>\n",
       "      <th>min</th>\n",
       "      <td>16.139999</td>\n",
       "      <td>16.629999</td>\n",
       "      <td>14.980000</td>\n",
       "      <td>15.800000</td>\n",
       "      <td>15.800000</td>\n",
       "      <td>1.185000e+05</td>\n",
       "    </tr>\n",
       "    <tr>\n",
       "      <th>25%</th>\n",
       "      <td>34.342498</td>\n",
       "      <td>34.897501</td>\n",
       "      <td>33.587501</td>\n",
       "      <td>34.400002</td>\n",
       "      <td>34.400002</td>\n",
       "      <td>1.899275e+06</td>\n",
       "    </tr>\n",
       "    <tr>\n",
       "      <th>50%</th>\n",
       "      <td>213.035004</td>\n",
       "      <td>216.745002</td>\n",
       "      <td>208.870002</td>\n",
       "      <td>212.960007</td>\n",
       "      <td>212.960007</td>\n",
       "      <td>4.578400e+06</td>\n",
       "    </tr>\n",
       "    <tr>\n",
       "      <th>75%</th>\n",
       "      <td>266.450012</td>\n",
       "      <td>270.927513</td>\n",
       "      <td>262.102501</td>\n",
       "      <td>266.774994</td>\n",
       "      <td>266.774994</td>\n",
       "      <td>7.361150e+06</td>\n",
       "    </tr>\n",
       "    <tr>\n",
       "      <th>max</th>\n",
       "      <td>673.690002</td>\n",
       "      <td>786.140015</td>\n",
       "      <td>673.520020</td>\n",
       "      <td>780.000000</td>\n",
       "      <td>780.000000</td>\n",
       "      <td>4.706500e+07</td>\n",
       "    </tr>\n",
       "  </tbody>\n",
       "</table>\n",
       "</div>"
      ],
      "text/plain": [
       "              Open         High          Low        Close    Adj Close  \\\n",
       "count  2416.000000  2416.000000  2416.000000  2416.000000  2416.000000   \n",
       "mean    186.271147   189.578224   182.916639   186.403651   186.403651   \n",
       "std     118.740163   120.892329   116.857591   119.136020   119.136020   \n",
       "min      16.139999    16.629999    14.980000    15.800000    15.800000   \n",
       "25%      34.342498    34.897501    33.587501    34.400002    34.400002   \n",
       "50%     213.035004   216.745002   208.870002   212.960007   212.960007   \n",
       "75%     266.450012   270.927513   262.102501   266.774994   266.774994   \n",
       "max     673.690002   786.140015   673.520020   780.000000   780.000000   \n",
       "\n",
       "             Volume  \n",
       "count  2.416000e+03  \n",
       "mean   5.572722e+06  \n",
       "std    4.987809e+06  \n",
       "min    1.185000e+05  \n",
       "25%    1.899275e+06  \n",
       "50%    4.578400e+06  \n",
       "75%    7.361150e+06  \n",
       "max    4.706500e+07  "
      ]
     },
     "metadata": {},
     "execution_count": 10
    }
   ],
   "metadata": {}
  },
  {
   "cell_type": "code",
   "execution_count": 11,
   "source": [
    "stock_df[\"Open\"].plot(figsize=(20,8))"
   ],
   "outputs": [
    {
     "output_type": "execute_result",
     "data": {
      "text/plain": [
       "<AxesSubplot:xlabel='Date'>"
      ]
     },
     "metadata": {},
     "execution_count": 11
    },
    {
     "output_type": "display_data",
     "data": {
      "image/png": "[encoded data removed]",
      "text/plain": [
       "<Figure size 1440x576 with 1 Axes>"
      ]
     },
     "metadata": {
      "needs_background": "light"
     }
    }
   ],
   "metadata": {}
  },
  {
   "cell_type": "code",
   "execution_count": 12,
   "source": [
    "stock_df[\"Open\"].plot(figsize=(20,8))"
   ],
   "outputs": [
    {
     "output_type": "execute_result",
     "data": {
      "text/plain": [
       "<AxesSubplot:xlabel='Date'>"
      ]
     },
     "metadata": {},
     "execution_count": 12
    },
    {
     "output_type": "display_data",
     "data": {
      "image/png": "[encoded data removed]",
      "text/plain": [
       "<Figure size 1440x576 with 1 Axes>"
      ]
     },
     "metadata": {
      "needs_background": "light"
     }
    }
   ],
   "metadata": {}
  },
  {
   "cell_type": "code",
   "execution_count": 13,
   "source": [
    "stock_df[\"Volume\"].plot(figsize=(20,8))"
   ],
   "outputs": [
    {
     "output_type": "execute_result",
     "data": {
      "text/plain": [
       "<AxesSubplot:xlabel='Date'>"
      ]
     },
     "metadata": {},
     "execution_count": 13
    },
    {
     "output_type": "display_data",
     "data": {
      "image/png": "[encoded data removed]",
      "text/plain": [
       "<Figure size 1440x576 with 1 Axes>"
      ]
     },
     "metadata": {
      "needs_background": "light"
     }
    }
   ],
   "metadata": {}
  },
  {
   "cell_type": "code",
   "execution_count": 14,
   "source": [
    "stock_df.drop(['Adj Close'], inplace = True, axis = 1)\r\n",
    "col_names = [name for name in stock_df.columns]"
   ],
   "outputs": [],
   "metadata": {}
  },
  {
   "cell_type": "code",
   "execution_count": 15,
   "source": [
    "values = stock_df.values\r\n",
    "\r\n",
    "num_cols = len(stock_df.columns)\r\n"
   ],
   "outputs": [],
   "metadata": {}
  },
  {
   "cell_type": "code",
   "execution_count": 16,
   "source": [
    "\r\n",
    "'''\r\n",
    "groups = [x for x in range(num_cols)]\r\n",
    "\r\n",
    "plt.figure(figsize = (12,16))\r\n",
    "\r\n",
    "i = 1\r\n",
    "for group in groups:\r\n",
    "    plt.subplot(len(groups), 1, i)\r\n",
    "    plt.plot(values[:, group])\r\n",
    "    plt.title(stock_df.columns[group], y=0.85, loc='center')\r\n",
    "    i += 1\r\n",
    "plt.show()\r\n",
    "'''"
   ],
   "outputs": [
    {
     "output_type": "execute_result",
     "data": {
      "text/plain": [
       "\"\\ngroups = [x for x in range(num_cols)]\\n\\nplt.figure(figsize = (12,16))\\n\\ni = 1\\nfor group in groups:\\n    plt.subplot(len(groups), 1, i)\\n    plt.plot(values[:, group])\\n    plt.title(stock_df.columns[group], y=0.85, loc='center')\\n    i += 1\\nplt.show()\\n\""
      ]
     },
     "metadata": {},
     "execution_count": 16
    }
   ],
   "metadata": {}
  },
  {
   "cell_type": "code",
   "execution_count": 17,
   "source": [
    "# ensure all data is float\r\n",
    "values = values.astype('float32')\r\n",
    "\r\n",
    "# normalize features\r\n",
    "scaler = MinMaxScaler(feature_range=(0, 1))\r\n",
    "scaled = scaler.fit_transform(values)\r\n"
   ],
   "outputs": [],
   "metadata": {
    "scrolled": true
   }
  },
  {
   "cell_type": "code",
   "execution_count": 18,
   "source": [
    "scaled"
   ],
   "outputs": [
    {
     "output_type": "execute_result",
     "data": {
      "text/plain": [
       "array([[0.00434948, 0.01087705, 0.00388739, 0.01058623, 0.39721385],\n",
       "       [0.01467569, 0.0179205 , 0.01263401, 0.01050772, 0.36357558],\n",
       "       [0.01347426, 0.01207262, 0.00803292, 0.00806071, 0.17254321],\n",
       "       ...,\n",
       "       [0.93723667, 0.82422584, 0.9156922 , 0.81786174, 0.6153217 ],\n",
       "       [0.9487643 , 0.8269808 , 0.93774104, 0.8306333 , 0.3323102 ],\n",
       "       [1.        , 1.        , 1.        , 0.99999994, 1.        ]],\n",
       "      dtype=float32)"
      ]
     },
     "metadata": {},
     "execution_count": 18
    }
   ],
   "metadata": {}
  },
  {
   "cell_type": "code",
   "execution_count": 19,
   "source": [
    "def dataset_gen(data, col_names, num_steps_in=1, num_steps_out=1):\r\n",
    "    '''\r\n",
    "    This function reformats the dataset the way it can be fed to the LSTM.\r\n",
    "    '''\r\n",
    "    \r\n",
    "   \r\n",
    "    df = pd.DataFrame(data)\r\n",
    "    columns, names = list(), list()\r\n",
    "    \r\n",
    "    # input sequence (t-n, ... t-1)\r\n",
    "    for i in range(num_steps_in, 0, -1):\r\n",
    "\r\n",
    "        columns.append(df.shift(i))\r\n",
    "        names += ['%s(t-%d)' % (n, i) for n in col_names]\r\n",
    "    \r\n",
    "    # forecast sequence (t, t+1, ... t+n)\r\n",
    "    for i in range(0, num_steps_out):\r\n",
    "        columns.append(df.shift(-i))\r\n",
    "        if i == 0:\r\n",
    "            names += [('%s(t)' % n) for n in col_names]\r\n",
    "        else:\r\n",
    "            names += [('%s(t+%d)' % (n, i)) for n in col_names]\r\n",
    "   \r\n",
    "    dataset = pd.concat(columns, axis=1)\r\n",
    "    dataset.columns = names\r\n",
    "    \r\n",
    "    return dataset"
   ],
   "outputs": [],
   "metadata": {}
  },
  {
   "cell_type": "code",
   "execution_count": 20,
   "source": [
    "num_steps_in = 6\r\n",
    "num_steps_out = 1\r\n",
    "n_features = num_cols\r\n",
    "dataset = dataset_gen(scaled, col_names, num_steps_in, num_steps_out)"
   ],
   "outputs": [],
   "metadata": {}
  },
  {
   "cell_type": "code",
   "execution_count": 21,
   "source": [
    "dataset"
   ],
   "outputs": [
    {
     "output_type": "execute_result",
     "data": {
      "text/html": [
       "<div>\n",
       "<style scoped>\n",
       "    .dataframe tbody tr th:only-of-type {\n",
       "        vertical-align: middle;\n",
       "    }\n",
       "\n",
       "    .dataframe tbody tr th {\n",
       "        vertical-align: top;\n",
       "    }\n",
       "\n",
       "    .dataframe thead th {\n",
       "        text-align: right;\n",
       "    }\n",
       "</style>\n",
       "<table border=\"1\" class=\"dataframe\">\n",
       "  <thead>\n",
       "    <tr style=\"text-align: right;\">\n",
       "      <th></th>\n",
       "      <th>Open(t-6)</th>\n",
       "      <th>High(t-6)</th>\n",
       "      <th>Low(t-6)</th>\n",
       "      <th>Close(t-6)</th>\n",
       "      <th>Volume(t-6)</th>\n",
       "      <th>Open(t-5)</th>\n",
       "      <th>High(t-5)</th>\n",
       "      <th>Low(t-5)</th>\n",
       "      <th>Close(t-5)</th>\n",
       "      <th>Volume(t-5)</th>\n",
       "      <th>...</th>\n",
       "      <th>Open(t-1)</th>\n",
       "      <th>High(t-1)</th>\n",
       "      <th>Low(t-1)</th>\n",
       "      <th>Close(t-1)</th>\n",
       "      <th>Volume(t-1)</th>\n",
       "      <th>Open(t)</th>\n",
       "      <th>High(t)</th>\n",
       "      <th>Low(t)</th>\n",
       "      <th>Close(t)</th>\n",
       "      <th>Volume(t)</th>\n",
       "    </tr>\n",
       "  </thead>\n",
       "  <tbody>\n",
       "    <tr>\n",
       "      <th>0</th>\n",
       "      <td>NaN</td>\n",
       "      <td>NaN</td>\n",
       "      <td>NaN</td>\n",
       "      <td>NaN</td>\n",
       "      <td>NaN</td>\n",
       "      <td>NaN</td>\n",
       "      <td>NaN</td>\n",
       "      <td>NaN</td>\n",
       "      <td>NaN</td>\n",
       "      <td>NaN</td>\n",
       "      <td>...</td>\n",
       "      <td>NaN</td>\n",
       "      <td>NaN</td>\n",
       "      <td>NaN</td>\n",
       "      <td>NaN</td>\n",
       "      <td>NaN</td>\n",
       "      <td>0.004349</td>\n",
       "      <td>0.010877</td>\n",
       "      <td>0.003887</td>\n",
       "      <td>0.010586</td>\n",
       "      <td>0.397214</td>\n",
       "    </tr>\n",
       "    <tr>\n",
       "      <th>1</th>\n",
       "      <td>NaN</td>\n",
       "      <td>NaN</td>\n",
       "      <td>NaN</td>\n",
       "      <td>NaN</td>\n",
       "      <td>NaN</td>\n",
       "      <td>NaN</td>\n",
       "      <td>NaN</td>\n",
       "      <td>NaN</td>\n",
       "      <td>NaN</td>\n",
       "      <td>NaN</td>\n",
       "      <td>...</td>\n",
       "      <td>0.004349</td>\n",
       "      <td>0.010877</td>\n",
       "      <td>0.003887</td>\n",
       "      <td>0.010586</td>\n",
       "      <td>0.397214</td>\n",
       "      <td>0.014676</td>\n",
       "      <td>0.017920</td>\n",
       "      <td>0.012634</td>\n",
       "      <td>0.010508</td>\n",
       "      <td>0.363576</td>\n",
       "    </tr>\n",
       "    <tr>\n",
       "      <th>2</th>\n",
       "      <td>NaN</td>\n",
       "      <td>NaN</td>\n",
       "      <td>NaN</td>\n",
       "      <td>NaN</td>\n",
       "      <td>NaN</td>\n",
       "      <td>NaN</td>\n",
       "      <td>NaN</td>\n",
       "      <td>NaN</td>\n",
       "      <td>NaN</td>\n",
       "      <td>NaN</td>\n",
       "      <td>...</td>\n",
       "      <td>0.014676</td>\n",
       "      <td>0.017920</td>\n",
       "      <td>0.012634</td>\n",
       "      <td>0.010508</td>\n",
       "      <td>0.363576</td>\n",
       "      <td>0.013474</td>\n",
       "      <td>0.012073</td>\n",
       "      <td>0.008033</td>\n",
       "      <td>0.008061</td>\n",
       "      <td>0.172543</td>\n",
       "    </tr>\n",
       "    <tr>\n",
       "      <th>3</th>\n",
       "      <td>NaN</td>\n",
       "      <td>NaN</td>\n",
       "      <td>NaN</td>\n",
       "      <td>NaN</td>\n",
       "      <td>NaN</td>\n",
       "      <td>NaN</td>\n",
       "      <td>NaN</td>\n",
       "      <td>NaN</td>\n",
       "      <td>NaN</td>\n",
       "      <td>NaN</td>\n",
       "      <td>...</td>\n",
       "      <td>0.013474</td>\n",
       "      <td>0.012073</td>\n",
       "      <td>0.008033</td>\n",
       "      <td>0.008061</td>\n",
       "      <td>0.172543</td>\n",
       "      <td>0.010433</td>\n",
       "      <td>0.008408</td>\n",
       "      <td>0.005664</td>\n",
       "      <td>0.004449</td>\n",
       "      <td>0.106958</td>\n",
       "    </tr>\n",
       "    <tr>\n",
       "      <th>4</th>\n",
       "      <td>NaN</td>\n",
       "      <td>NaN</td>\n",
       "      <td>NaN</td>\n",
       "      <td>NaN</td>\n",
       "      <td>NaN</td>\n",
       "      <td>NaN</td>\n",
       "      <td>NaN</td>\n",
       "      <td>NaN</td>\n",
       "      <td>NaN</td>\n",
       "      <td>NaN</td>\n",
       "      <td>...</td>\n",
       "      <td>0.010433</td>\n",
       "      <td>0.008408</td>\n",
       "      <td>0.005664</td>\n",
       "      <td>0.004449</td>\n",
       "      <td>0.106958</td>\n",
       "      <td>0.005870</td>\n",
       "      <td>0.004379</td>\n",
       "      <td>0.001291</td>\n",
       "      <td>0.000406</td>\n",
       "      <td>0.143747</td>\n",
       "    </tr>\n",
       "    <tr>\n",
       "      <th>...</th>\n",
       "      <td>...</td>\n",
       "      <td>...</td>\n",
       "      <td>...</td>\n",
       "      <td>...</td>\n",
       "      <td>...</td>\n",
       "      <td>...</td>\n",
       "      <td>...</td>\n",
       "      <td>...</td>\n",
       "      <td>...</td>\n",
       "      <td>...</td>\n",
       "      <td>...</td>\n",
       "      <td>...</td>\n",
       "      <td>...</td>\n",
       "      <td>...</td>\n",
       "      <td>...</td>\n",
       "      <td>...</td>\n",
       "      <td>...</td>\n",
       "      <td>...</td>\n",
       "      <td>...</td>\n",
       "      <td>...</td>\n",
       "      <td>...</td>\n",
       "    </tr>\n",
       "    <tr>\n",
       "      <th>2411</th>\n",
       "      <td>0.747426</td>\n",
       "      <td>0.648517</td>\n",
       "      <td>0.741306</td>\n",
       "      <td>0.647344</td>\n",
       "      <td>0.287787</td>\n",
       "      <td>0.781857</td>\n",
       "      <td>0.691284</td>\n",
       "      <td>0.779649</td>\n",
       "      <td>0.695368</td>\n",
       "      <td>0.376705</td>\n",
       "      <td>...</td>\n",
       "      <td>0.799711</td>\n",
       "      <td>0.711895</td>\n",
       "      <td>0.796155</td>\n",
       "      <td>0.709526</td>\n",
       "      <td>0.287340</td>\n",
       "      <td>0.840012</td>\n",
       "      <td>0.727970</td>\n",
       "      <td>0.824703</td>\n",
       "      <td>0.721146</td>\n",
       "      <td>0.248581</td>\n",
       "    </tr>\n",
       "    <tr>\n",
       "      <th>2412</th>\n",
       "      <td>0.781857</td>\n",
       "      <td>0.691284</td>\n",
       "      <td>0.779649</td>\n",
       "      <td>0.695368</td>\n",
       "      <td>0.376705</td>\n",
       "      <td>0.845183</td>\n",
       "      <td>0.750958</td>\n",
       "      <td>0.826252</td>\n",
       "      <td>0.724627</td>\n",
       "      <td>0.665662</td>\n",
       "      <td>...</td>\n",
       "      <td>0.840012</td>\n",
       "      <td>0.727970</td>\n",
       "      <td>0.824703</td>\n",
       "      <td>0.721146</td>\n",
       "      <td>0.248581</td>\n",
       "      <td>0.850962</td>\n",
       "      <td>0.744851</td>\n",
       "      <td>0.838901</td>\n",
       "      <td>0.739584</td>\n",
       "      <td>0.376663</td>\n",
       "    </tr>\n",
       "    <tr>\n",
       "      <th>2413</th>\n",
       "      <td>0.845183</td>\n",
       "      <td>0.750958</td>\n",
       "      <td>0.826252</td>\n",
       "      <td>0.724627</td>\n",
       "      <td>0.665662</td>\n",
       "      <td>0.833564</td>\n",
       "      <td>0.734714</td>\n",
       "      <td>0.820937</td>\n",
       "      <td>0.728082</td>\n",
       "      <td>0.416059</td>\n",
       "      <td>...</td>\n",
       "      <td>0.850962</td>\n",
       "      <td>0.744851</td>\n",
       "      <td>0.838901</td>\n",
       "      <td>0.739584</td>\n",
       "      <td>0.376663</td>\n",
       "      <td>0.937237</td>\n",
       "      <td>0.824226</td>\n",
       "      <td>0.915692</td>\n",
       "      <td>0.817862</td>\n",
       "      <td>0.615322</td>\n",
       "    </tr>\n",
       "    <tr>\n",
       "      <th>2414</th>\n",
       "      <td>0.833564</td>\n",
       "      <td>0.734714</td>\n",
       "      <td>0.820937</td>\n",
       "      <td>0.728082</td>\n",
       "      <td>0.416059</td>\n",
       "      <td>0.843267</td>\n",
       "      <td>0.724136</td>\n",
       "      <td>0.818902</td>\n",
       "      <td>0.718424</td>\n",
       "      <td>0.303220</td>\n",
       "      <td>...</td>\n",
       "      <td>0.937237</td>\n",
       "      <td>0.824226</td>\n",
       "      <td>0.915692</td>\n",
       "      <td>0.817862</td>\n",
       "      <td>0.615322</td>\n",
       "      <td>0.948764</td>\n",
       "      <td>0.826981</td>\n",
       "      <td>0.937741</td>\n",
       "      <td>0.830633</td>\n",
       "      <td>0.332310</td>\n",
       "    </tr>\n",
       "    <tr>\n",
       "      <th>2415</th>\n",
       "      <td>0.843267</td>\n",
       "      <td>0.724136</td>\n",
       "      <td>0.818902</td>\n",
       "      <td>0.718424</td>\n",
       "      <td>0.303220</td>\n",
       "      <td>0.799711</td>\n",
       "      <td>0.711895</td>\n",
       "      <td>0.796155</td>\n",
       "      <td>0.709526</td>\n",
       "      <td>0.287340</td>\n",
       "      <td>...</td>\n",
       "      <td>0.948764</td>\n",
       "      <td>0.826981</td>\n",
       "      <td>0.937741</td>\n",
       "      <td>0.830633</td>\n",
       "      <td>0.332310</td>\n",
       "      <td>1.000000</td>\n",
       "      <td>1.000000</td>\n",
       "      <td>1.000000</td>\n",
       "      <td>1.000000</td>\n",
       "      <td>1.000000</td>\n",
       "    </tr>\n",
       "  </tbody>\n",
       "</table>\n",
       "<p>2416 rows × 35 columns</p>\n",
       "</div>"
      ],
      "text/plain": [
       "      Open(t-6)  High(t-6)  Low(t-6)  Close(t-6)  Volume(t-6)  Open(t-5)  \\\n",
       "0           NaN        NaN       NaN         NaN          NaN        NaN   \n",
       "1           NaN        NaN       NaN         NaN          NaN        NaN   \n",
       "2           NaN        NaN       NaN         NaN          NaN        NaN   \n",
       "3           NaN        NaN       NaN         NaN          NaN        NaN   \n",
       "4           NaN        NaN       NaN         NaN          NaN        NaN   \n",
       "...         ...        ...       ...         ...          ...        ...   \n",
       "2411   0.747426   0.648517  0.741306    0.647344     0.287787   0.781857   \n",
       "2412   0.781857   0.691284  0.779649    0.695368     0.376705   0.845183   \n",
       "2413   0.845183   0.750958  0.826252    0.724627     0.665662   0.833564   \n",
       "2414   0.833564   0.734714  0.820937    0.728082     0.416059   0.843267   \n",
       "2415   0.843267   0.724136  0.818902    0.718424     0.303220   0.799711   \n",
       "\n",
       "      High(t-5)  Low(t-5)  Close(t-5)  Volume(t-5)  ...  Open(t-1)  High(t-1)  \\\n",
       "0           NaN       NaN         NaN          NaN  ...        NaN        NaN   \n",
       "1           NaN       NaN         NaN          NaN  ...   0.004349   0.010877   \n",
       "2           NaN       NaN         NaN          NaN  ...   0.014676   0.017920   \n",
       "3           NaN       NaN         NaN          NaN  ...   0.013474   0.012073   \n",
       "4           NaN       NaN         NaN          NaN  ...   0.010433   0.008408   \n",
       "...         ...       ...         ...          ...  ...        ...        ...   \n",
       "2411   0.691284  0.779649    0.695368     0.376705  ...   0.799711   0.711895   \n",
       "2412   0.750958  0.826252    0.724627     0.665662  ...   0.840012   0.727970   \n",
       "2413   0.734714  0.820937    0.728082     0.416059  ...   0.850962   0.744851   \n",
       "2414   0.724136  0.818902    0.718424     0.303220  ...   0.937237   0.824226   \n",
       "2415   0.711895  0.796155    0.709526     0.287340  ...   0.948764   0.826981   \n",
       "\n",
       "      Low(t-1)  Close(t-1)  Volume(t-1)   Open(t)   High(t)    Low(t)  \\\n",
       "0          NaN         NaN          NaN  0.004349  0.010877  0.003887   \n",
       "1     0.003887    0.010586     0.397214  0.014676  0.017920  0.012634   \n",
       "2     0.012634    0.010508     0.363576  0.013474  0.012073  0.008033   \n",
       "3     0.008033    0.008061     0.172543  0.010433  0.008408  0.005664   \n",
       "4     0.005664    0.004449     0.106958  0.005870  0.004379  0.001291   \n",
       "...        ...         ...          ...       ...       ...       ...   \n",
       "2411  0.796155    0.709526     0.287340  0.840012  0.727970  0.824703   \n",
       "2412  0.824703    0.721146     0.248581  0.850962  0.744851  0.838901   \n",
       "2413  0.838901    0.739584     0.376663  0.937237  0.824226  0.915692   \n",
       "2414  0.915692    0.817862     0.615322  0.948764  0.826981  0.937741   \n",
       "2415  0.937741    0.830633     0.332310  1.000000  1.000000  1.000000   \n",
       "\n",
       "      Close(t)  Volume(t)  \n",
       "0     0.010586   0.397214  \n",
       "1     0.010508   0.363576  \n",
       "2     0.008061   0.172543  \n",
       "3     0.004449   0.106958  \n",
       "4     0.000406   0.143747  \n",
       "...        ...        ...  \n",
       "2411  0.721146   0.248581  \n",
       "2412  0.739584   0.376663  \n",
       "2413  0.817862   0.615322  \n",
       "2414  0.830633   0.332310  \n",
       "2415  1.000000   1.000000  \n",
       "\n",
       "[2416 rows x 35 columns]"
      ]
     },
     "metadata": {},
     "execution_count": 21
    }
   ],
   "metadata": {}
  },
  {
   "cell_type": "code",
   "execution_count": 22,
   "source": [
    "dataset.dropna(inplace=True)"
   ],
   "outputs": [],
   "metadata": {}
  },
  {
   "cell_type": "code",
   "execution_count": 23,
   "source": [
    "dataset"
   ],
   "outputs": [
    {
     "output_type": "execute_result",
     "data": {
      "text/html": [
       "<div>\n",
       "<style scoped>\n",
       "    .dataframe tbody tr th:only-of-type {\n",
       "        vertical-align: middle;\n",
       "    }\n",
       "\n",
       "    .dataframe tbody tr th {\n",
       "        vertical-align: top;\n",
       "    }\n",
       "\n",
       "    .dataframe thead th {\n",
       "        text-align: right;\n",
       "    }\n",
       "</style>\n",
       "<table border=\"1\" class=\"dataframe\">\n",
       "  <thead>\n",
       "    <tr style=\"text-align: right;\">\n",
       "      <th></th>\n",
       "      <th>Open(t-6)</th>\n",
       "      <th>High(t-6)</th>\n",
       "      <th>Low(t-6)</th>\n",
       "      <th>Close(t-6)</th>\n",
       "      <th>Volume(t-6)</th>\n",
       "      <th>Open(t-5)</th>\n",
       "      <th>High(t-5)</th>\n",
       "      <th>Low(t-5)</th>\n",
       "      <th>Close(t-5)</th>\n",
       "      <th>Volume(t-5)</th>\n",
       "      <th>...</th>\n",
       "      <th>Open(t-1)</th>\n",
       "      <th>High(t-1)</th>\n",
       "      <th>Low(t-1)</th>\n",
       "      <th>Close(t-1)</th>\n",
       "      <th>Volume(t-1)</th>\n",
       "      <th>Open(t)</th>\n",
       "      <th>High(t)</th>\n",
       "      <th>Low(t)</th>\n",
       "      <th>Close(t)</th>\n",
       "      <th>Volume(t)</th>\n",
       "    </tr>\n",
       "  </thead>\n",
       "  <tbody>\n",
       "    <tr>\n",
       "      <th>6</th>\n",
       "      <td>0.004349</td>\n",
       "      <td>0.010877</td>\n",
       "      <td>0.003887</td>\n",
       "      <td>0.010586</td>\n",
       "      <td>0.397214</td>\n",
       "      <td>0.014676</td>\n",
       "      <td>0.017920</td>\n",
       "      <td>0.012634</td>\n",
       "      <td>0.010508</td>\n",
       "      <td>0.363576</td>\n",
       "      <td>...</td>\n",
       "      <td>0.000395</td>\n",
       "      <td>0.000000</td>\n",
       "      <td>0.000000</td>\n",
       "      <td>0.000000</td>\n",
       "      <td>0.144914</td>\n",
       "      <td>0.000000</td>\n",
       "      <td>0.001157</td>\n",
       "      <td>0.000896</td>\n",
       "      <td>0.002172</td>\n",
       "      <td>0.161735</td>\n",
       "    </tr>\n",
       "    <tr>\n",
       "      <th>7</th>\n",
       "      <td>0.014676</td>\n",
       "      <td>0.017920</td>\n",
       "      <td>0.012634</td>\n",
       "      <td>0.010508</td>\n",
       "      <td>0.363576</td>\n",
       "      <td>0.013474</td>\n",
       "      <td>0.012073</td>\n",
       "      <td>0.008033</td>\n",
       "      <td>0.008061</td>\n",
       "      <td>0.172543</td>\n",
       "      <td>...</td>\n",
       "      <td>0.000000</td>\n",
       "      <td>0.001157</td>\n",
       "      <td>0.000896</td>\n",
       "      <td>0.002172</td>\n",
       "      <td>0.161735</td>\n",
       "      <td>0.002190</td>\n",
       "      <td>0.001650</td>\n",
       "      <td>0.002384</td>\n",
       "      <td>0.002094</td>\n",
       "      <td>0.083757</td>\n",
       "    </tr>\n",
       "    <tr>\n",
       "      <th>8</th>\n",
       "      <td>0.013474</td>\n",
       "      <td>0.012073</td>\n",
       "      <td>0.008033</td>\n",
       "      <td>0.008061</td>\n",
       "      <td>0.172543</td>\n",
       "      <td>0.010433</td>\n",
       "      <td>0.008408</td>\n",
       "      <td>0.005664</td>\n",
       "      <td>0.004449</td>\n",
       "      <td>0.106958</td>\n",
       "      <td>...</td>\n",
       "      <td>0.002190</td>\n",
       "      <td>0.001650</td>\n",
       "      <td>0.002384</td>\n",
       "      <td>0.002094</td>\n",
       "      <td>0.083757</td>\n",
       "      <td>0.002753</td>\n",
       "      <td>0.001871</td>\n",
       "      <td>0.003067</td>\n",
       "      <td>0.001636</td>\n",
       "      <td>0.044391</td>\n",
       "    </tr>\n",
       "    <tr>\n",
       "      <th>9</th>\n",
       "      <td>0.010433</td>\n",
       "      <td>0.008408</td>\n",
       "      <td>0.005664</td>\n",
       "      <td>0.004449</td>\n",
       "      <td>0.106958</td>\n",
       "      <td>0.005870</td>\n",
       "      <td>0.004379</td>\n",
       "      <td>0.001291</td>\n",
       "      <td>0.000406</td>\n",
       "      <td>0.143747</td>\n",
       "      <td>...</td>\n",
       "      <td>0.002753</td>\n",
       "      <td>0.001871</td>\n",
       "      <td>0.003067</td>\n",
       "      <td>0.001636</td>\n",
       "      <td>0.044391</td>\n",
       "      <td>0.001901</td>\n",
       "      <td>0.002612</td>\n",
       "      <td>0.002916</td>\n",
       "      <td>0.003062</td>\n",
       "      <td>0.054564</td>\n",
       "    </tr>\n",
       "    <tr>\n",
       "      <th>10</th>\n",
       "      <td>0.005870</td>\n",
       "      <td>0.004379</td>\n",
       "      <td>0.001291</td>\n",
       "      <td>0.000406</td>\n",
       "      <td>0.143747</td>\n",
       "      <td>0.000395</td>\n",
       "      <td>0.000000</td>\n",
       "      <td>0.000000</td>\n",
       "      <td>0.000000</td>\n",
       "      <td>0.144914</td>\n",
       "      <td>...</td>\n",
       "      <td>0.001901</td>\n",
       "      <td>0.002612</td>\n",
       "      <td>0.002916</td>\n",
       "      <td>0.003062</td>\n",
       "      <td>0.054564</td>\n",
       "      <td>0.002737</td>\n",
       "      <td>0.004574</td>\n",
       "      <td>0.004221</td>\n",
       "      <td>0.005287</td>\n",
       "      <td>0.086837</td>\n",
       "    </tr>\n",
       "    <tr>\n",
       "      <th>...</th>\n",
       "      <td>...</td>\n",
       "      <td>...</td>\n",
       "      <td>...</td>\n",
       "      <td>...</td>\n",
       "      <td>...</td>\n",
       "      <td>...</td>\n",
       "      <td>...</td>\n",
       "      <td>...</td>\n",
       "      <td>...</td>\n",
       "      <td>...</td>\n",
       "      <td>...</td>\n",
       "      <td>...</td>\n",
       "      <td>...</td>\n",
       "      <td>...</td>\n",
       "      <td>...</td>\n",
       "      <td>...</td>\n",
       "      <td>...</td>\n",
       "      <td>...</td>\n",
       "      <td>...</td>\n",
       "      <td>...</td>\n",
       "      <td>...</td>\n",
       "    </tr>\n",
       "    <tr>\n",
       "      <th>2411</th>\n",
       "      <td>0.747426</td>\n",
       "      <td>0.648517</td>\n",
       "      <td>0.741306</td>\n",
       "      <td>0.647344</td>\n",
       "      <td>0.287787</td>\n",
       "      <td>0.781857</td>\n",
       "      <td>0.691284</td>\n",
       "      <td>0.779649</td>\n",
       "      <td>0.695368</td>\n",
       "      <td>0.376705</td>\n",
       "      <td>...</td>\n",
       "      <td>0.799711</td>\n",
       "      <td>0.711895</td>\n",
       "      <td>0.796155</td>\n",
       "      <td>0.709526</td>\n",
       "      <td>0.287340</td>\n",
       "      <td>0.840012</td>\n",
       "      <td>0.727970</td>\n",
       "      <td>0.824703</td>\n",
       "      <td>0.721146</td>\n",
       "      <td>0.248581</td>\n",
       "    </tr>\n",
       "    <tr>\n",
       "      <th>2412</th>\n",
       "      <td>0.781857</td>\n",
       "      <td>0.691284</td>\n",
       "      <td>0.779649</td>\n",
       "      <td>0.695368</td>\n",
       "      <td>0.376705</td>\n",
       "      <td>0.845183</td>\n",
       "      <td>0.750958</td>\n",
       "      <td>0.826252</td>\n",
       "      <td>0.724627</td>\n",
       "      <td>0.665662</td>\n",
       "      <td>...</td>\n",
       "      <td>0.840012</td>\n",
       "      <td>0.727970</td>\n",
       "      <td>0.824703</td>\n",
       "      <td>0.721146</td>\n",
       "      <td>0.248581</td>\n",
       "      <td>0.850962</td>\n",
       "      <td>0.744851</td>\n",
       "      <td>0.838901</td>\n",
       "      <td>0.739584</td>\n",
       "      <td>0.376663</td>\n",
       "    </tr>\n",
       "    <tr>\n",
       "      <th>2413</th>\n",
       "      <td>0.845183</td>\n",
       "      <td>0.750958</td>\n",
       "      <td>0.826252</td>\n",
       "      <td>0.724627</td>\n",
       "      <td>0.665662</td>\n",
       "      <td>0.833564</td>\n",
       "      <td>0.734714</td>\n",
       "      <td>0.820937</td>\n",
       "      <td>0.728082</td>\n",
       "      <td>0.416059</td>\n",
       "      <td>...</td>\n",
       "      <td>0.850962</td>\n",
       "      <td>0.744851</td>\n",
       "      <td>0.838901</td>\n",
       "      <td>0.739584</td>\n",
       "      <td>0.376663</td>\n",
       "      <td>0.937237</td>\n",
       "      <td>0.824226</td>\n",
       "      <td>0.915692</td>\n",
       "      <td>0.817862</td>\n",
       "      <td>0.615322</td>\n",
       "    </tr>\n",
       "    <tr>\n",
       "      <th>2414</th>\n",
       "      <td>0.833564</td>\n",
       "      <td>0.734714</td>\n",
       "      <td>0.820937</td>\n",
       "      <td>0.728082</td>\n",
       "      <td>0.416059</td>\n",
       "      <td>0.843267</td>\n",
       "      <td>0.724136</td>\n",
       "      <td>0.818902</td>\n",
       "      <td>0.718424</td>\n",
       "      <td>0.303220</td>\n",
       "      <td>...</td>\n",
       "      <td>0.937237</td>\n",
       "      <td>0.824226</td>\n",
       "      <td>0.915692</td>\n",
       "      <td>0.817862</td>\n",
       "      <td>0.615322</td>\n",
       "      <td>0.948764</td>\n",
       "      <td>0.826981</td>\n",
       "      <td>0.937741</td>\n",
       "      <td>0.830633</td>\n",
       "      <td>0.332310</td>\n",
       "    </tr>\n",
       "    <tr>\n",
       "      <th>2415</th>\n",
       "      <td>0.843267</td>\n",
       "      <td>0.724136</td>\n",
       "      <td>0.818902</td>\n",
       "      <td>0.718424</td>\n",
       "      <td>0.303220</td>\n",
       "      <td>0.799711</td>\n",
       "      <td>0.711895</td>\n",
       "      <td>0.796155</td>\n",
       "      <td>0.709526</td>\n",
       "      <td>0.287340</td>\n",
       "      <td>...</td>\n",
       "      <td>0.948764</td>\n",
       "      <td>0.826981</td>\n",
       "      <td>0.937741</td>\n",
       "      <td>0.830633</td>\n",
       "      <td>0.332310</td>\n",
       "      <td>1.000000</td>\n",
       "      <td>1.000000</td>\n",
       "      <td>1.000000</td>\n",
       "      <td>1.000000</td>\n",
       "      <td>1.000000</td>\n",
       "    </tr>\n",
       "  </tbody>\n",
       "</table>\n",
       "<p>2410 rows × 35 columns</p>\n",
       "</div>"
      ],
      "text/plain": [
       "      Open(t-6)  High(t-6)  Low(t-6)  Close(t-6)  Volume(t-6)  Open(t-5)  \\\n",
       "6      0.004349   0.010877  0.003887    0.010586     0.397214   0.014676   \n",
       "7      0.014676   0.017920  0.012634    0.010508     0.363576   0.013474   \n",
       "8      0.013474   0.012073  0.008033    0.008061     0.172543   0.010433   \n",
       "9      0.010433   0.008408  0.005664    0.004449     0.106958   0.005870   \n",
       "10     0.005870   0.004379  0.001291    0.000406     0.143747   0.000395   \n",
       "...         ...        ...       ...         ...          ...        ...   \n",
       "2411   0.747426   0.648517  0.741306    0.647344     0.287787   0.781857   \n",
       "2412   0.781857   0.691284  0.779649    0.695368     0.376705   0.845183   \n",
       "2413   0.845183   0.750958  0.826252    0.724627     0.665662   0.833564   \n",
       "2414   0.833564   0.734714  0.820937    0.728082     0.416059   0.843267   \n",
       "2415   0.843267   0.724136  0.818902    0.718424     0.303220   0.799711   \n",
       "\n",
       "      High(t-5)  Low(t-5)  Close(t-5)  Volume(t-5)  ...  Open(t-1)  High(t-1)  \\\n",
       "6      0.017920  0.012634    0.010508     0.363576  ...   0.000395   0.000000   \n",
       "7      0.012073  0.008033    0.008061     0.172543  ...   0.000000   0.001157   \n",
       "8      0.008408  0.005664    0.004449     0.106958  ...   0.002190   0.001650   \n",
       "9      0.004379  0.001291    0.000406     0.143747  ...   0.002753   0.001871   \n",
       "10     0.000000  0.000000    0.000000     0.144914  ...   0.001901   0.002612   \n",
       "...         ...       ...         ...          ...  ...        ...        ...   \n",
       "2411   0.691284  0.779649    0.695368     0.376705  ...   0.799711   0.711895   \n",
       "2412   0.750958  0.826252    0.724627     0.665662  ...   0.840012   0.727970   \n",
       "2413   0.734714  0.820937    0.728082     0.416059  ...   0.850962   0.744851   \n",
       "2414   0.724136  0.818902    0.718424     0.303220  ...   0.937237   0.824226   \n",
       "2415   0.711895  0.796155    0.709526     0.287340  ...   0.948764   0.826981   \n",
       "\n",
       "      Low(t-1)  Close(t-1)  Volume(t-1)   Open(t)   High(t)    Low(t)  \\\n",
       "6     0.000000    0.000000     0.144914  0.000000  0.001157  0.000896   \n",
       "7     0.000896    0.002172     0.161735  0.002190  0.001650  0.002384   \n",
       "8     0.002384    0.002094     0.083757  0.002753  0.001871  0.003067   \n",
       "9     0.003067    0.001636     0.044391  0.001901  0.002612  0.002916   \n",
       "10    0.002916    0.003062     0.054564  0.002737  0.004574  0.004221   \n",
       "...        ...         ...          ...       ...       ...       ...   \n",
       "2411  0.796155    0.709526     0.287340  0.840012  0.727970  0.824703   \n",
       "2412  0.824703    0.721146     0.248581  0.850962  0.744851  0.838901   \n",
       "2413  0.838901    0.739584     0.376663  0.937237  0.824226  0.915692   \n",
       "2414  0.915692    0.817862     0.615322  0.948764  0.826981  0.937741   \n",
       "2415  0.937741    0.830633     0.332310  1.000000  1.000000  1.000000   \n",
       "\n",
       "      Close(t)  Volume(t)  \n",
       "6     0.002172   0.161735  \n",
       "7     0.002094   0.083757  \n",
       "8     0.001636   0.044391  \n",
       "9     0.003062   0.054564  \n",
       "10    0.005287   0.086837  \n",
       "...        ...        ...  \n",
       "2411  0.721146   0.248581  \n",
       "2412  0.739584   0.376663  \n",
       "2413  0.817862   0.615322  \n",
       "2414  0.830633   0.332310  \n",
       "2415  1.000000   1.000000  \n",
       "\n",
       "[2410 rows x 35 columns]"
      ]
     },
     "metadata": {},
     "execution_count": 23
    }
   ],
   "metadata": {}
  },
  {
   "cell_type": "code",
   "execution_count": 24,
   "source": [
    "# split into dataset into train and test sets with scale 80:20\r\n",
    "values = dataset.values\r\n",
    "train_size = int(len(values) * 0.8)\r\n",
    "test_size = len(values) - train_size\r\n",
    "train = values[0:train_size]\r\n",
    "test = values[train_size:len(values)]\r\n",
    "print(len(train), len(test))"
   ],
   "outputs": [
    {
     "output_type": "stream",
     "name": "stdout",
     "text": [
      "1928 482\n"
     ]
    }
   ],
   "metadata": {}
  },
  {
   "cell_type": "code",
   "execution_count": 25,
   "source": [
    "num_col_input = num_steps_in*num_cols"
   ],
   "outputs": [],
   "metadata": {}
  },
  {
   "cell_type": "code",
   "execution_count": 26,
   "source": [
    "num_col_target = num_steps_out*num_cols"
   ],
   "outputs": [],
   "metadata": {}
  },
  {
   "cell_type": "code",
   "execution_count": 27,
   "source": [
    "target_idx = [dataset.columns.to_list().index(col) for col in dataset.columns[num_col_input:] if 'Open' in col]"
   ],
   "outputs": [],
   "metadata": {}
  },
  {
   "cell_type": "code",
   "execution_count": 28,
   "source": [
    "target_idx = [dataset.columns.to_list().index(col) for col in dataset.columns[num_col_input:] if 'Open' in col]"
   ],
   "outputs": [],
   "metadata": {}
  },
  {
   "cell_type": "code",
   "execution_count": 29,
   "source": [
    "train.shape"
   ],
   "outputs": [
    {
     "output_type": "execute_result",
     "data": {
      "text/plain": [
       "(1928, 35)"
      ]
     },
     "metadata": {},
     "execution_count": 29
    }
   ],
   "metadata": {}
  },
  {
   "cell_type": "code",
   "execution_count": 30,
   "source": [
    "train_X, train_y = train[:, :num_col_input], train[:, target_idx]\r\n",
    "test_X, test_y = test[:, :num_col_input], test[:, target_idx]\r\n",
    "\r\n",
    "# reshape input to fit the LSTM network requirements: [n_samples, window, n_features]\r\n",
    "train_X = train_X.reshape((train_X.shape[0], num_steps_in, n_features))\r\n",
    "test_X = test_X.reshape((test_X.shape[0], num_steps_in, n_features))\r\n",
    "\r\n",
    "print(train_X.shape, train_y.shape, test_X.shape, test_y.shape)"
   ],
   "outputs": [
    {
     "output_type": "stream",
     "name": "stdout",
     "text": [
      "(1928, 6, 5) (1928, 1) (482, 6, 5) (482, 1)\n"
     ]
    }
   ],
   "metadata": {}
  },
  {
   "cell_type": "code",
   "execution_count": 31,
   "source": [
    "train_X[0]"
   ],
   "outputs": [
    {
     "output_type": "execute_result",
     "data": {
      "text/plain": [
       "array([[4.34947945e-03, 1.08770542e-02, 3.88738886e-03, 1.05862319e-02,\n",
       "        3.97213846e-01],\n",
       "       [1.46756917e-02, 1.79204978e-02, 1.26340073e-02, 1.05077196e-02,\n",
       "        3.63575578e-01],\n",
       "       [1.34742595e-02, 1.20726191e-02, 8.03292170e-03, 8.06071423e-03,\n",
       "        1.72543213e-01],\n",
       "       [1.04326680e-02, 8.40795040e-03, 5.66404313e-03, 4.44909744e-03,\n",
       "        1.06957912e-01],\n",
       "       [5.87027520e-03, 4.37941216e-03, 1.29073299e-03, 4.05652449e-04,\n",
       "        1.43746600e-01],\n",
       "       [3.95406038e-04, 0.00000000e+00, 0.00000000e+00, 0.00000000e+00,\n",
       "        1.44913882e-01]], dtype=float32)"
      ]
     },
     "metadata": {},
     "execution_count": 31
    }
   ],
   "metadata": {}
  },
  {
   "cell_type": "code",
   "execution_count": 32,
   "source": [
    "# Create an model for LSMT RNN\r\n",
    "model = Sequential()\r\n",
    "model.add(LSTM(150, input_shape=(train_X.shape[1], train_X.shape[2])))\r\n",
    "model.add(Dense(train_y.shape[1]))\r\n",
    "\r\n",
    "model.compile(loss='mean_squared_error', optimizer='adam')\r\n",
    "\r\n",
    "t = model.fit(train_X, train_y, epochs=50,\r\n",
    "              batch_size=32,\r\n",
    "              validation_data=(test_X, test_y),\r\n",
    "              verbose=1,\r\n",
    "              shuffle=False)\r\n"
   ],
   "outputs": [
    {
     "output_type": "stream",
     "name": "stdout",
     "text": [
      "Epoch 1/50\n",
      "61/61 [==============================] - 4s 22ms/step - loss: 4.7794e-04 - val_loss: 7.5711e-04\n",
      "Epoch 2/50\n",
      "61/61 [==============================] - 1s 9ms/step - loss: 3.5663e-04 - val_loss: 6.0551e-04\n",
      "Epoch 3/50\n",
      "61/61 [==============================] - 1s 9ms/step - loss: 1.3105e-04 - val_loss: 4.7250e-04\n",
      "Epoch 4/50\n",
      "61/61 [==============================] - 1s 9ms/step - loss: 1.1680e-04 - val_loss: 4.5278e-04\n",
      "Epoch 5/50\n",
      "61/61 [==============================] - 1s 9ms/step - loss: 1.2549e-04 - val_loss: 4.4659e-04\n",
      "Epoch 6/50\n",
      "61/61 [==============================] - 1s 9ms/step - loss: 1.2424e-04 - val_loss: 4.3741e-04\n",
      "Epoch 7/50\n",
      "61/61 [==============================] - 1s 9ms/step - loss: 1.1961e-04 - val_loss: 4.2699e-04\n",
      "Epoch 8/50\n",
      "61/61 [==============================] - 1s 9ms/step - loss: 1.1411e-04 - val_loss: 4.1618e-04\n",
      "Epoch 9/50\n",
      "61/61 [==============================] - 1s 10ms/step - loss: 1.0958e-04 - val_loss: 4.0428e-04\n",
      "Epoch 10/50\n",
      "61/61 [==============================] - 1s 10ms/step - loss: 1.0484e-04 - val_loss: 3.9250e-04\n",
      "Epoch 11/50\n",
      "61/61 [==============================] - 1s 11ms/step - loss: 1.0049e-04 - val_loss: 3.8037e-04\n",
      "Epoch 12/50\n",
      "61/61 [==============================] - 1s 14ms/step - loss: 9.6119e-05 - val_loss: 3.6847e-04\n",
      "Epoch 13/50\n",
      "61/61 [==============================] - 1s 13ms/step - loss: 9.1922e-05 - val_loss: 3.5657e-04\n",
      "Epoch 14/50\n",
      "61/61 [==============================] - 1s 12ms/step - loss: 8.7773e-05 - val_loss: 3.4487e-04\n",
      "Epoch 15/50\n",
      "61/61 [==============================] - 1s 11ms/step - loss: 8.3748e-05 - val_loss: 3.3332e-04\n",
      "Epoch 16/50\n",
      "61/61 [==============================] - 1s 11ms/step - loss: 7.9854e-05 - val_loss: 3.2202e-04\n",
      "Epoch 17/50\n",
      "61/61 [==============================] - 1s 10ms/step - loss: 7.6179e-05 - val_loss: 3.1100e-04\n",
      "Epoch 18/50\n",
      "61/61 [==============================] - 1s 10ms/step - loss: 7.2820e-05 - val_loss: 3.0039e-04\n",
      "Epoch 19/50\n",
      "61/61 [==============================] - 1s 9ms/step - loss: 6.9896e-05 - val_loss: 2.9032e-04\n",
      "Epoch 20/50\n",
      "61/61 [==============================] - 1s 10ms/step - loss: 6.7499e-05 - val_loss: 2.8082e-04\n",
      "Epoch 21/50\n",
      "61/61 [==============================] - 1s 10ms/step - loss: 6.5636e-05 - val_loss: 2.7174e-04\n",
      "Epoch 22/50\n",
      "61/61 [==============================] - 1s 9ms/step - loss: 6.4179e-05 - val_loss: 2.6276e-04\n",
      "Epoch 23/50\n",
      "61/61 [==============================] - 1s 9ms/step - loss: 6.2877e-05 - val_loss: 2.5363e-04\n",
      "Epoch 24/50\n",
      "61/61 [==============================] - 1s 9ms/step - loss: 6.1441e-05 - val_loss: 2.4436e-04\n",
      "Epoch 25/50\n",
      "61/61 [==============================] - 1s 10ms/step - loss: 5.9688e-05 - val_loss: 2.3528e-04\n",
      "Epoch 26/50\n",
      "61/61 [==============================] - 1s 9ms/step - loss: 5.7639e-05 - val_loss: 2.2666e-04\n",
      "Epoch 27/50\n",
      "61/61 [==============================] - 1s 10ms/step - loss: 5.5460e-05 - val_loss: 2.1863e-04\n",
      "Epoch 28/50\n",
      "61/61 [==============================] - 1s 9ms/step - loss: 5.3314e-05 - val_loss: 2.1116e-04\n",
      "Epoch 29/50\n",
      "61/61 [==============================] - 1s 9ms/step - loss: 5.1278e-05 - val_loss: 2.0422e-04\n",
      "Epoch 30/50\n",
      "61/61 [==============================] - 1s 10ms/step - loss: 4.9362e-05 - val_loss: 1.9782e-04\n",
      "Epoch 31/50\n",
      "61/61 [==============================] - 1s 10ms/step - loss: 4.7557e-05 - val_loss: 1.9195e-04\n",
      "Epoch 32/50\n",
      "61/61 [==============================] - 1s 9ms/step - loss: 4.5858e-05 - val_loss: 1.8663e-04\n",
      "Epoch 33/50\n",
      "61/61 [==============================] - 1s 9ms/step - loss: 4.4267e-05 - val_loss: 1.8185e-04\n",
      "Epoch 34/50\n",
      "61/61 [==============================] - 1s 9ms/step - loss: 4.2792e-05 - val_loss: 1.7762e-04\n",
      "Epoch 35/50\n",
      "61/61 [==============================] - 1s 9ms/step - loss: 4.1442e-05 - val_loss: 1.7393e-04\n",
      "Epoch 36/50\n",
      "61/61 [==============================] - 1s 9ms/step - loss: 4.0222e-05 - val_loss: 1.7077e-04\n",
      "Epoch 37/50\n",
      "61/61 [==============================] - 1s 9ms/step - loss: 3.9138e-05 - val_loss: 1.6811e-04\n",
      "Epoch 38/50\n",
      "61/61 [==============================] - 0s 8ms/step - loss: 3.8189e-05 - val_loss: 1.6592e-04\n",
      "Epoch 39/50\n",
      "61/61 [==============================] - 0s 8ms/step - loss: 3.7375e-05 - val_loss: 1.6419e-04\n",
      "Epoch 40/50\n",
      "61/61 [==============================] - 0s 8ms/step - loss: 3.6693e-05 - val_loss: 1.6287e-04\n",
      "Epoch 41/50\n",
      "61/61 [==============================] - 0s 8ms/step - loss: 3.6135e-05 - val_loss: 1.6194e-04\n",
      "Epoch 42/50\n",
      "61/61 [==============================] - 0s 8ms/step - loss: 3.5692e-05 - val_loss: 1.6136e-04\n",
      "Epoch 43/50\n",
      "61/61 [==============================] - 0s 8ms/step - loss: 3.5354e-05 - val_loss: 1.6109e-04\n",
      "Epoch 44/50\n",
      "61/61 [==============================] - 0s 8ms/step - loss: 3.5106e-05 - val_loss: 1.6110e-04\n",
      "Epoch 45/50\n",
      "61/61 [==============================] - 0s 8ms/step - loss: 3.4932e-05 - val_loss: 1.6136e-04\n",
      "Epoch 46/50\n",
      "61/61 [==============================] - 0s 8ms/step - loss: 3.4820e-05 - val_loss: 1.6183e-04\n",
      "Epoch 47/50\n",
      "61/61 [==============================] - 0s 8ms/step - loss: 3.4754e-05 - val_loss: 1.6249e-04\n",
      "Epoch 48/50\n",
      "61/61 [==============================] - 0s 8ms/step - loss: 3.4724e-05 - val_loss: 1.6330e-04\n",
      "Epoch 49/50\n",
      "61/61 [==============================] - 1s 10ms/step - loss: 3.4723e-05 - val_loss: 1.6425e-04\n",
      "Epoch 50/50\n",
      "61/61 [==============================] - 1s 10ms/step - loss: 3.4746e-05 - val_loss: 1.6530e-04\n"
     ]
    }
   ],
   "metadata": {}
  },
  {
   "cell_type": "code",
   "execution_count": 33,
   "source": [
    "# plot training history\r\n",
    "plt.figure(figsize = (9,7))\r\n",
    "plt.title('Training Loss / Validation Loss')\r\n",
    "plt.plot(t.history['loss'], 'tab:red', label='Training loss')\r\n",
    "plt.plot(t.history['val_loss'], 'tab:blue', label='Validation loss')\r\n",
    "plt.legend()\r\n",
    "plt.show()"
   ],
   "outputs": [
    {
     "output_type": "display_data",
     "data": {
      "image/png": "[encoded data removed]",
      "text/plain": [
       "<Figure size 648x504 with 1 Axes>"
      ]
     },
     "metadata": {
      "needs_background": "light"
     }
    }
   ],
   "metadata": {}
  },
  {
   "cell_type": "code",
   "execution_count": 34,
   "source": [
    "# Try a prediction with Test data\r\n",
    "y_predict = model.predict(test_X)\r\n",
    "\r\n",
    "# invert scaling\r\n",
    "y_predict_inv = y_predict / scaler.scale_[0]\r\n",
    "y_inv = test_y / scaler.scale_[0]\r\n",
    "\r\n",
    "# reshape back\r\n",
    "y_predict_inv_rshp = y_predict_inv.reshape((-1,1))\r\n",
    "y_inv_rshp = y_inv.reshape((-1,1))\r\n",
    "\r\n",
    "# calculate RMSE\r\n",
    "import math\r\n",
    "rmse = math.sqrt(mean_squared_error(y_inv_rshp, y_predict_inv_rshp))\r\n",
    "print('Test set RMSE: %.2f' % rmse)\r\n",
    "\r\n"
   ],
   "outputs": [
    {
     "output_type": "stream",
     "name": "stdout",
     "text": [
      "Test set RMSE: 8.45\n"
     ]
    }
   ],
   "metadata": {}
  },
  {
   "cell_type": "code",
   "execution_count": 35,
   "source": [
    "plt.figure(figsize = (18,7))\r\n",
    "plt.title('Real data vs Predicted on the Test set')\r\n",
    "plt.plot(y_inv_rshp, 'tab:green', label='Real data')\r\n",
    "plt.plot(y_predict_inv_rshp, 'tab:blue', label='Predicted')\r\n",
    "plt.legend()\r\n",
    "plt.show()"
   ],
   "outputs": [
    {
     "output_type": "display_data",
     "data": {
      "image/png": "[encoded data removed]",
      "text/plain": [
       "<Figure size 1296x504 with 1 Axes>"
      ]
     },
     "metadata": {
      "needs_background": "light"
     }
    }
   ],
   "metadata": {}
  },
  {
   "cell_type": "code",
   "execution_count": 36,
   "source": [
    "error = (y_predict_inv_rshp - y_inv_rshp)\r\n",
    "average_error = error.sum()/len(y_inv_rshp)\r\n",
    "print(\"Average Error: %.2f\" %average_error)"
   ],
   "outputs": [
    {
     "output_type": "stream",
     "name": "stdout",
     "text": [
      "Average Error: 2.61\n"
     ]
    }
   ],
   "metadata": {}
  },
  {
   "cell_type": "code",
   "execution_count": 37,
   "source": [
    "print(\"Max Error: %.2f\" %error.max())"
   ],
   "outputs": [
    {
     "output_type": "stream",
     "name": "stdout",
     "text": [
      "Max Error: 42.38\n"
     ]
    }
   ],
   "metadata": {}
  },
  {
   "cell_type": "code",
   "execution_count": null,
   "source": [],
   "outputs": [],
   "metadata": {}
  }
 ],
 "metadata": {
  "kernelspec": {
   "name": "python3",
   "display_name": "Python 3.8.8 64-bit ('base': conda)"
  },
  "language_info": {
   "codemirror_mode": {
    "name": "ipython",
    "version": 3
   },
   "file_extension": ".py",
   "mimetype": "text/x-python",
   "name": "python",
   "nbconvert_exporter": "python",
   "pygments_lexer": "ipython3",
   "version": "3.8.8"
  },
  "interpreter": {
   "hash": "cb5e3185a046c85dd25ce0a5f4f24db93d8d41f26ad2f2bd4fc5c1ae81f2b499"
  }
 },
 "nbformat": 4,
 "nbformat_minor": 5
}