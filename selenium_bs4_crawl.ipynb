{
 "cells": [
  {
   "cell_type": "code",
   "execution_count": 1,
   "source": [
    "from selenium import webdriver\r\n",
    "from selenium.webdriver.support.ui import WebDriverWait\r\n",
    "from selenium.webdriver.common.by import By\r\n",
    "from selenium.webdriver.support import expected_conditions as EC\r\n",
    "from bs4 import BeautifulSoup\r\n",
    "import pandas as pd\r\n",
    "import lxml\r\n",
    "import requests"
   ],
   "outputs": [],
   "metadata": {}
  },
  {
   "cell_type": "code",
   "execution_count": 2,
   "source": [
    "def extract_table_data(page, col):\r\n",
    "    # create soup \r\n",
    "    soup = BeautifulSoup(page, 'lxml')\r\n",
    "    # check table\r\n",
    "    all_tr = soup.find_all('tr')\r\n",
    "    #Since 3 first row is the header, data is stored on the 4th row onwards\r\n",
    "    for j in range(3,len(all_tr)):\r\n",
    "        #row is our j'th row\r\n",
    "        row=all_tr[j]\r\n",
    "        all_td = row.find_all('td')\r\n",
    "        \r\n",
    "        #i is the index of our column\r\n",
    "        i=0\r\n",
    "        \r\n",
    "        #Iterate through each element of the row\r\n",
    "        for td in all_td:\r\n",
    "            data=td.text \r\n",
    "            if i>14: \r\n",
    "                #print(all_td)\r\n",
    "                continue\r\n",
    "            #Check if row is empty\r\n",
    "            if i>0:\r\n",
    "                #print(i)\r\n",
    "            #Convert any numerical value to integers\r\n",
    "                try:\r\n",
    "                    data=int(data)\r\n",
    "                except:\r\n",
    "                    pass\r\n",
    "            #Append the data to the empty list of the i'th column\r\n",
    "            col[i][1].append(data)\r\n",
    "            #Increment i for the next column\r\n",
    "            i+=1\r\n",
    "\r\n",
    "    return col"
   ],
   "outputs": [],
   "metadata": {}
  },
  {
   "cell_type": "code",
   "execution_count": 3,
   "source": [
    "# Get the page with selenium driver\r\n",
    "url='https://s.cafef.vn/Lich-su-giao-dich-FPT-1.chn'\r\n",
    "chrome_options = webdriver.ChromeOptions() \r\n",
    "chrome_options.add_argument(\"start-maximized\")\r\n",
    "#driver = webdriver.Chrome()\r\n",
    "driver = webdriver.Chrome(options=chrome_options, executable_path=r'./chromedriver.exe')\r\n",
    "driver.get(url)\r\n"
   ],
   "outputs": [],
   "metadata": {}
  },
  {
   "cell_type": "code",
   "execution_count": 4,
   "source": [
    "# Create all column name for the table \r\n",
    "col_list = [\"Ngay\", \"Gia d/c\", \"Gia dong cua\", \"Thay doi\", \"up-down\",\r\n",
    "            \"GD-KL\", \"GD-GT\", \"TT-KL\", \"TT-GT\", \"Gia mo cua\", \r\n",
    "            \"Gia cao nhat\", \"Gia thap nhat\", \"C13\", \"C14\", \"C15\" ]\r\n",
    "#Create empty list\r\n",
    "column_data = []\r\n",
    "#For each row, store each first element (header) and an empty list\r\n",
    "for t in col_list:\r\n",
    "    column_data.append((t,[]))\r\n",
    "\r\n",
    "print(column_data, len(column_data))"
   ],
   "outputs": [
    {
     "output_type": "stream",
     "name": "stdout",
     "text": [
      "[('Ngay', []), ('Gia d/c', []), ('Gia dong cua', []), ('Thay doi', []), ('up-down', []), ('GD-KL', []), ('GD-GT', []), ('TT-KL', []), ('TT-GT', []), ('Gia mo cua', []), ('Gia cao nhat', []), ('Gia thap nhat', []), ('C13', []), ('C14', []), ('C15', [])] 15\n"
     ]
    }
   ],
   "metadata": {}
  },
  {
   "cell_type": "code",
   "execution_count": 5,
   "source": [
    "#page = driver.page_source\r\n",
    "#column_data = extract_table_data(page, column_data)\r\n",
    "#print(\"Finish extracting page number 1\")"
   ],
   "outputs": [],
   "metadata": {}
  },
  {
   "cell_type": "code",
   "execution_count": 6,
   "source": [
    "'''\r\n",
    "txt = \"'ctl00$ContentPlaceHolder1$ctl03$pager2','{}'\".format(40)\r\n",
    "element_btn = driver.find_element_by_xpath('.//a[contains(@href, \"{}\")]'.format(txt))\r\n",
    "element_btn.click()\r\n",
    "'''"
   ],
   "outputs": [
    {
     "output_type": "execute_result",
     "data": {
      "text/plain": [
       "'\\ntxt = \"\\'ctl00$ContentPlaceHolder1$ctl03$pager2\\',\\'{}\\'\".format(40)\\nelement_btn = driver.find_element_by_xpath(\\'.//a[contains(@href, \"{}\")]\\'.format(txt))\\nelement_btn.click()\\n'"
      ]
     },
     "metadata": {},
     "execution_count": 6
    }
   ],
   "metadata": {}
  },
  {
   "cell_type": "code",
   "execution_count": 7,
   "source": [
    "count = 1\r\n",
    "time_wait = 0\r\n",
    "import time\r\n",
    "while True:\r\n",
    "    try:\r\n",
    "        # Check the next button before extract data\r\n",
    "        title_string = \" Next to Page {}\".format(count+1)\r\n",
    "        driver.find_element_by_xpath('.//a[@title=\"{}\"]'.format(title_string))\r\n",
    "        print(\"Finish loading page {}\".format(count))\r\n",
    "        # Extract data\r\n",
    "        page = driver.page_source\r\n",
    "        column_data = extract_table_data(page, column_data)\r\n",
    "        print(\"Finish extracting page number {}\".format(count))\r\n",
    "        \r\n",
    "        # Click to next page\r\n",
    "        #driver.find_element_by_xpath('.//a[@title=\" Next to Page 2\"]').click()\r\n",
    "        #driver.find_element_by_xpath('.//a[contains(@title, \" Next to Page\")]').click()\r\n",
    "        #driver.find_element_by_xpath('.//a[@title=\"{}\"]'.format(title_string)).click()\r\n",
    "        \r\n",
    "        txt = \"'ctl00$ContentPlaceHolder1$ctl03$pager2','{}'\".format(count+1)\r\n",
    "        driver.find_element_by_xpath('.//a[contains(@href, \"{}\")]'.format(txt)).click() \r\n",
    "        count += 1\r\n",
    "        print(\"Go to page {}\".format(count))\r\n",
    "        time.sleep(10)\r\n",
    "        time_wait = 0\r\n",
    "          \r\n",
    "    except :\r\n",
    "        if time_wait > 100:\r\n",
    "            print(\"No more pages or timeout\")\r\n",
    "            confirm = input(\"Continue? Manually navigate to the page {} then type yes: \".format(count))\r\n",
    "            if confirm != \"yes\" :\r\n",
    "                break \r\n",
    "            else:\r\n",
    "                time_wait = 0\r\n",
    "\r\n",
    "        time_wait += 10\r\n",
    "        time.sleep(10)\r\n",
    "        \r\n",
    "print(\"Num of pages: \", count)\r\n"
   ],
   "outputs": [
    {
     "output_type": "stream",
     "name": "stdout",
     "text": [
      "Finish loading page 1\n",
      "Finish extracting page number 1\n",
      "Go to page 2\n",
      "Finish loading page 2\n",
      "Finish extracting page number 2\n",
      "Go to page 3\n",
      "Finish loading page 3\n",
      "Finish extracting page number 3\n",
      "Go to page 4\n",
      "Finish loading page 4\n",
      "Finish extracting page number 4\n",
      "Go to page 5\n",
      "Finish loading page 5\n",
      "Finish extracting page number 5\n",
      "Go to page 6\n",
      "Finish loading page 6\n",
      "Finish extracting page number 6\n",
      "Go to page 7\n",
      "Finish loading page 7\n",
      "Finish extracting page number 7\n",
      "Go to page 8\n",
      "Finish loading page 8\n",
      "Finish extracting page number 8\n",
      "Go to page 9\n",
      "Finish loading page 9\n",
      "Finish extracting page number 9\n",
      "Go to page 10\n",
      "Finish loading page 10\n",
      "Finish extracting page number 10\n",
      "Go to page 11\n",
      "Finish loading page 11\n",
      "Finish extracting page number 11\n",
      "Go to page 12\n",
      "Finish loading page 12\n",
      "Finish extracting page number 12\n",
      "Go to page 13\n",
      "Finish loading page 13\n",
      "Finish extracting page number 13\n",
      "Go to page 14\n",
      "No more pages or timeout\n",
      "Finish loading page 14\n",
      "Finish extracting page number 14\n",
      "Go to page 15\n",
      "Finish loading page 15\n",
      "Finish extracting page number 15\n",
      "Go to page 16\n",
      "Finish loading page 16\n",
      "Finish extracting page number 16\n",
      "Go to page 17\n",
      "Finish loading page 17\n",
      "Finish extracting page number 17\n",
      "Go to page 18\n"
     ]
    },
    {
     "output_type": "error",
     "ename": "KeyboardInterrupt",
     "evalue": "",
     "traceback": [
      "\u001b[1;31m---------------------------------------------------------------------------\u001b[0m",
      "\u001b[1;31mNoSuchElementException\u001b[0m                    Traceback (most recent call last)",
      "\u001b[1;32m<ipython-input-7-9eeb5c228016>\u001b[0m in \u001b[0;36m<module>\u001b[1;34m\u001b[0m\n\u001b[0;32m      7\u001b[0m         \u001b[0mtitle_string\u001b[0m \u001b[1;33m=\u001b[0m \u001b[1;34m\" Next to Page {}\"\u001b[0m\u001b[1;33m.\u001b[0m\u001b[0mformat\u001b[0m\u001b[1;33m(\u001b[0m\u001b[0mcount\u001b[0m\u001b[1;33m+\u001b[0m\u001b[1;36m1\u001b[0m\u001b[1;33m)\u001b[0m\u001b[1;33m\u001b[0m\u001b[1;33m\u001b[0m\u001b[0m\n\u001b[1;32m----> 8\u001b[1;33m         \u001b[0mdriver\u001b[0m\u001b[1;33m.\u001b[0m\u001b[0mfind_element_by_xpath\u001b[0m\u001b[1;33m(\u001b[0m\u001b[1;34m'.//a[@title=\"{}\"]'\u001b[0m\u001b[1;33m.\u001b[0m\u001b[0mformat\u001b[0m\u001b[1;33m(\u001b[0m\u001b[0mtitle_string\u001b[0m\u001b[1;33m)\u001b[0m\u001b[1;33m)\u001b[0m\u001b[1;33m\u001b[0m\u001b[1;33m\u001b[0m\u001b[0m\n\u001b[0m\u001b[0;32m      9\u001b[0m         \u001b[0mprint\u001b[0m\u001b[1;33m(\u001b[0m\u001b[1;34m\"Finish loading page {}\"\u001b[0m\u001b[1;33m.\u001b[0m\u001b[0mformat\u001b[0m\u001b[1;33m(\u001b[0m\u001b[0mcount\u001b[0m\u001b[1;33m)\u001b[0m\u001b[1;33m)\u001b[0m\u001b[1;33m\u001b[0m\u001b[1;33m\u001b[0m\u001b[0m\n",
      "\u001b[1;32m~\\anaconda3\\lib\\site-packages\\selenium\\webdriver\\remote\\webdriver.py\u001b[0m in \u001b[0;36mfind_element_by_xpath\u001b[1;34m(self, xpath)\u001b[0m\n\u001b[0;32m    393\u001b[0m         \"\"\"\n\u001b[1;32m--> 394\u001b[1;33m         \u001b[1;32mreturn\u001b[0m \u001b[0mself\u001b[0m\u001b[1;33m.\u001b[0m\u001b[0mfind_element\u001b[0m\u001b[1;33m(\u001b[0m\u001b[0mby\u001b[0m\u001b[1;33m=\u001b[0m\u001b[0mBy\u001b[0m\u001b[1;33m.\u001b[0m\u001b[0mXPATH\u001b[0m\u001b[1;33m,\u001b[0m \u001b[0mvalue\u001b[0m\u001b[1;33m=\u001b[0m\u001b[0mxpath\u001b[0m\u001b[1;33m)\u001b[0m\u001b[1;33m\u001b[0m\u001b[1;33m\u001b[0m\u001b[0m\n\u001b[0m\u001b[0;32m    395\u001b[0m \u001b[1;33m\u001b[0m\u001b[0m\n",
      "\u001b[1;32m~\\anaconda3\\lib\\site-packages\\selenium\\webdriver\\remote\\webdriver.py\u001b[0m in \u001b[0;36mfind_element\u001b[1;34m(self, by, value)\u001b[0m\n\u001b[0;32m    975\u001b[0m                 \u001b[0mvalue\u001b[0m \u001b[1;33m=\u001b[0m \u001b[1;34m'[name=\"%s\"]'\u001b[0m \u001b[1;33m%\u001b[0m \u001b[0mvalue\u001b[0m\u001b[1;33m\u001b[0m\u001b[1;33m\u001b[0m\u001b[0m\n\u001b[1;32m--> 976\u001b[1;33m         return self.execute(Command.FIND_ELEMENT, {\n\u001b[0m\u001b[0;32m    977\u001b[0m             \u001b[1;34m'using'\u001b[0m\u001b[1;33m:\u001b[0m \u001b[0mby\u001b[0m\u001b[1;33m,\u001b[0m\u001b[1;33m\u001b[0m\u001b[1;33m\u001b[0m\u001b[0m\n",
      "\u001b[1;32m~\\anaconda3\\lib\\site-packages\\selenium\\webdriver\\remote\\webdriver.py\u001b[0m in \u001b[0;36mexecute\u001b[1;34m(self, driver_command, params)\u001b[0m\n\u001b[0;32m    320\u001b[0m         \u001b[1;32mif\u001b[0m \u001b[0mresponse\u001b[0m\u001b[1;33m:\u001b[0m\u001b[1;33m\u001b[0m\u001b[1;33m\u001b[0m\u001b[0m\n\u001b[1;32m--> 321\u001b[1;33m             \u001b[0mself\u001b[0m\u001b[1;33m.\u001b[0m\u001b[0merror_handler\u001b[0m\u001b[1;33m.\u001b[0m\u001b[0mcheck_response\u001b[0m\u001b[1;33m(\u001b[0m\u001b[0mresponse\u001b[0m\u001b[1;33m)\u001b[0m\u001b[1;33m\u001b[0m\u001b[1;33m\u001b[0m\u001b[0m\n\u001b[0m\u001b[0;32m    322\u001b[0m             response['value'] = self._unwrap_value(\n",
      "\u001b[1;32m~\\anaconda3\\lib\\site-packages\\selenium\\webdriver\\remote\\errorhandler.py\u001b[0m in \u001b[0;36mcheck_response\u001b[1;34m(self, response)\u001b[0m\n\u001b[0;32m    241\u001b[0m             \u001b[1;32mraise\u001b[0m \u001b[0mexception_class\u001b[0m\u001b[1;33m(\u001b[0m\u001b[0mmessage\u001b[0m\u001b[1;33m,\u001b[0m \u001b[0mscreen\u001b[0m\u001b[1;33m,\u001b[0m \u001b[0mstacktrace\u001b[0m\u001b[1;33m,\u001b[0m \u001b[0malert_text\u001b[0m\u001b[1;33m)\u001b[0m\u001b[1;33m\u001b[0m\u001b[1;33m\u001b[0m\u001b[0m\n\u001b[1;32m--> 242\u001b[1;33m         \u001b[1;32mraise\u001b[0m \u001b[0mexception_class\u001b[0m\u001b[1;33m(\u001b[0m\u001b[0mmessage\u001b[0m\u001b[1;33m,\u001b[0m \u001b[0mscreen\u001b[0m\u001b[1;33m,\u001b[0m \u001b[0mstacktrace\u001b[0m\u001b[1;33m)\u001b[0m\u001b[1;33m\u001b[0m\u001b[1;33m\u001b[0m\u001b[0m\n\u001b[0m\u001b[0;32m    243\u001b[0m \u001b[1;33m\u001b[0m\u001b[0m\n",
      "\u001b[1;31mNoSuchElementException\u001b[0m: Message: no such element: Unable to locate element: {\"method\":\"xpath\",\"selector\":\".//a[@title=\" Next to Page 19\"]\"}\n  (Session info: chrome=93.0.4577.63)\n",
      "\nDuring handling of the above exception, another exception occurred:\n",
      "\u001b[1;31mKeyboardInterrupt\u001b[0m                         Traceback (most recent call last)",
      "\u001b[1;32m<ipython-input-7-9eeb5c228016>\u001b[0m in \u001b[0;36m<module>\u001b[1;34m\u001b[0m\n\u001b[0;32m     35\u001b[0m \u001b[1;33m\u001b[0m\u001b[0m\n\u001b[0;32m     36\u001b[0m         \u001b[0mtime_wait\u001b[0m \u001b[1;33m+=\u001b[0m \u001b[1;36m10\u001b[0m\u001b[1;33m\u001b[0m\u001b[1;33m\u001b[0m\u001b[0m\n\u001b[1;32m---> 37\u001b[1;33m         \u001b[0mtime\u001b[0m\u001b[1;33m.\u001b[0m\u001b[0msleep\u001b[0m\u001b[1;33m(\u001b[0m\u001b[1;36m10\u001b[0m\u001b[1;33m)\u001b[0m\u001b[1;33m\u001b[0m\u001b[1;33m\u001b[0m\u001b[0m\n\u001b[0m\u001b[0;32m     38\u001b[0m \u001b[1;33m\u001b[0m\u001b[0m\n\u001b[0;32m     39\u001b[0m \u001b[0mprint\u001b[0m\u001b[1;33m(\u001b[0m\u001b[1;34m\"Num of pages: \"\u001b[0m\u001b[1;33m,\u001b[0m \u001b[0mcount\u001b[0m\u001b[1;33m)\u001b[0m\u001b[1;33m\u001b[0m\u001b[1;33m\u001b[0m\u001b[0m\n",
      "\u001b[1;31mKeyboardInterrupt\u001b[0m: "
     ]
    }
   ],
   "metadata": {}
  },
  {
   "cell_type": "code",
   "execution_count": null,
   "source": [
    "'''\r\n",
    "count = 1\r\n",
    "time_wait = 0\r\n",
    "import time\r\n",
    "while True:\r\n",
    "    try:\r\n",
    "        \r\n",
    "        # Extract data\r\n",
    "        page = driver.page_source\r\n",
    "        column_data = extract_table_data(page, column_data)\r\n",
    "        print(\"Finish extracting page number {}\".format(count))\r\n",
    "        js = 'document.getElementsByClassName(\"CafeF_Paging\")[0].rows[0].cells[{}].firstElementChild.click()'.format(count)\r\n",
    "        driver.execute_script(js)\r\n",
    "        count += 1\r\n",
    "        print(\"Go to page {}\".format(count))\r\n",
    "        time.sleep(10)\r\n",
    "        \r\n",
    "        time_wait = 0\r\n",
    "          \r\n",
    "    except :\r\n",
    "        if time_wait > 100:\r\n",
    "            print(\"No more pages or timeout\")\r\n",
    "            confirm = input(\"Continue? Manually navigate to the page {} then type yes: \".format(count))\r\n",
    "            if confirm != \"yes\" :\r\n",
    "                break \r\n",
    "            else:\r\n",
    "                time_wait = 0\r\n",
    "\r\n",
    "        time_wait += 10\r\n",
    "        time.sleep(10)\r\n",
    "        \r\n",
    "print(\"Num of pages: \", count)\r\n",
    "'''"
   ],
   "outputs": [],
   "metadata": {}
  },
  {
   "cell_type": "code",
   "execution_count": 2,
   "source": [
    "Dict={title:column for (title,column) in column_data}\r\n",
    "df=pd.DataFrame(Dict)"
   ],
   "outputs": [
    {
     "output_type": "error",
     "ename": "NameError",
     "evalue": "name 'column_data' is not defined",
     "traceback": [
      "\u001b[1;31m---------------------------------------------------------------------------\u001b[0m",
      "\u001b[1;31mNameError\u001b[0m                                 Traceback (most recent call last)",
      "\u001b[1;32m<ipython-input-2-76d59fd1c01f>\u001b[0m in \u001b[0;36m<module>\u001b[1;34m\u001b[0m\n\u001b[1;32m----> 1\u001b[1;33m \u001b[0mDict\u001b[0m\u001b[1;33m=\u001b[0m\u001b[1;33m{\u001b[0m\u001b[0mtitle\u001b[0m\u001b[1;33m:\u001b[0m\u001b[0mcolumn\u001b[0m \u001b[1;32mfor\u001b[0m \u001b[1;33m(\u001b[0m\u001b[0mtitle\u001b[0m\u001b[1;33m,\u001b[0m\u001b[0mcolumn\u001b[0m\u001b[1;33m)\u001b[0m \u001b[1;32min\u001b[0m \u001b[0mcolumn_data\u001b[0m\u001b[1;33m}\u001b[0m\u001b[1;33m\u001b[0m\u001b[1;33m\u001b[0m\u001b[0m\n\u001b[0m\u001b[0;32m      2\u001b[0m \u001b[0mdf\u001b[0m\u001b[1;33m=\u001b[0m\u001b[0mpd\u001b[0m\u001b[1;33m.\u001b[0m\u001b[0mDataFrame\u001b[0m\u001b[1;33m(\u001b[0m\u001b[0mDict\u001b[0m\u001b[1;33m)\u001b[0m\u001b[1;33m\u001b[0m\u001b[1;33m\u001b[0m\u001b[0m\n",
      "\u001b[1;31mNameError\u001b[0m: name 'column_data' is not defined"
     ]
    }
   ],
   "metadata": {}
  },
  {
   "cell_type": "code",
   "execution_count": 7,
   "source": [
    "df.size"
   ],
   "outputs": [
    {
     "output_type": "execute_result",
     "data": {
      "text/plain": [
       "39060"
      ]
     },
     "metadata": {},
     "execution_count": 7
    }
   ],
   "metadata": {}
  },
  {
   "cell_type": "code",
   "execution_count": 1,
   "source": [
    "df.head()[1]"
   ],
   "outputs": [
    {
     "output_type": "error",
     "ename": "NameError",
     "evalue": "name 'df' is not defined",
     "traceback": [
      "\u001b[1;31m---------------------------------------------------------------------------\u001b[0m",
      "\u001b[1;31mNameError\u001b[0m                                 Traceback (most recent call last)",
      "\u001b[1;32m<ipython-input-1-2c736189e132>\u001b[0m in \u001b[0;36m<module>\u001b[1;34m\u001b[0m\n\u001b[1;32m----> 1\u001b[1;33m \u001b[0mdf\u001b[0m\u001b[1;33m.\u001b[0m\u001b[0mhead\u001b[0m\u001b[1;33m(\u001b[0m\u001b[1;33m)\u001b[0m\u001b[1;33m[\u001b[0m\u001b[1;36m1\u001b[0m\u001b[1;33m]\u001b[0m\u001b[1;33m\u001b[0m\u001b[1;33m\u001b[0m\u001b[0m\n\u001b[0m",
      "\u001b[1;31mNameError\u001b[0m: name 'df' is not defined"
     ]
    }
   ],
   "metadata": {}
  },
  {
   "cell_type": "code",
   "execution_count": 12,
   "source": [
    "import pickle"
   ],
   "outputs": [],
   "metadata": {}
  },
  {
   "cell_type": "code",
   "execution_count": 10,
   "source": [
    "'''\r\n",
    "with open(\"FPT-data.pkl\", 'wb') as fd:\r\n",
    "    pickle.dump(df, fd)\r\n",
    "'''"
   ],
   "outputs": [],
   "metadata": {}
  },
  {
   "cell_type": "code",
   "execution_count": 13,
   "source": [
    "with open(\"FPT-data.pkl\", 'rb') as fd:\r\n",
    "    new_df = pickle.load(fd)\r\n"
   ],
   "outputs": [],
   "metadata": {}
  },
  {
   "cell_type": "code",
   "execution_count": 14,
   "source": [
    "new_df.head()"
   ],
   "outputs": [
    {
     "output_type": "execute_result",
     "data": {
      "text/html": [
       "<div>\n",
       "<style scoped>\n",
       "    .dataframe tbody tr th:only-of-type {\n",
       "        vertical-align: middle;\n",
       "    }\n",
       "\n",
       "    .dataframe tbody tr th {\n",
       "        vertical-align: top;\n",
       "    }\n",
       "\n",
       "    .dataframe thead th {\n",
       "        text-align: right;\n",
       "    }\n",
       "</style>\n",
       "<table border=\"1\" class=\"dataframe\">\n",
       "  <thead>\n",
       "    <tr style=\"text-align: right;\">\n",
       "      <th></th>\n",
       "      <th>Ngay</th>\n",
       "      <th>Gia d/c</th>\n",
       "      <th>Gia dong cua</th>\n",
       "      <th>Thay doi</th>\n",
       "      <th>up-down</th>\n",
       "      <th>GD-KL</th>\n",
       "      <th>GD-GT</th>\n",
       "      <th>TT-KL</th>\n",
       "      <th>TT-GT</th>\n",
       "      <th>Gia mo cua</th>\n",
       "      <th>Gia cao nhat</th>\n",
       "      <th>Gia thap nhat</th>\n",
       "      <th>C13</th>\n",
       "      <th>C14</th>\n",
       "      <th>C15</th>\n",
       "    </tr>\n",
       "  </thead>\n",
       "  <tbody>\n",
       "    <tr>\n",
       "      <th>0</th>\n",
       "      <td>10/09/2021</td>\n",
       "      <td>93.50</td>\n",
       "      <td>93.50</td>\n",
       "      <td>0.30 (0.32 %)</td>\n",
       "      <td></td>\n",
       "      <td>1,440,100</td>\n",
       "      <td>135,021,000,000</td>\n",
       "      <td>40,000</td>\n",
       "      <td>3,910,000,000</td>\n",
       "      <td>93.40</td>\n",
       "      <td>94.40</td>\n",
       "      <td>93.40</td>\n",
       "      <td>0</td>\n",
       "      <td>0</td>\n",
       "      <td>0</td>\n",
       "    </tr>\n",
       "    <tr>\n",
       "      <th>1</th>\n",
       "      <td>09/09/2021</td>\n",
       "      <td>93.20</td>\n",
       "      <td>93.20</td>\n",
       "      <td>0.10 (0.11 %)</td>\n",
       "      <td></td>\n",
       "      <td>1,393,700</td>\n",
       "      <td>129,780,000,000</td>\n",
       "      <td>100,000</td>\n",
       "      <td>9,589,000,000</td>\n",
       "      <td>93.10</td>\n",
       "      <td>93.90</td>\n",
       "      <td>92.80</td>\n",
       "      <td>0</td>\n",
       "      <td>0</td>\n",
       "      <td>0</td>\n",
       "    </tr>\n",
       "    <tr>\n",
       "      <th>2</th>\n",
       "      <td>08/09/2021</td>\n",
       "      <td>93.10</td>\n",
       "      <td>93.10</td>\n",
       "      <td>-0.40 (-0.43 %)</td>\n",
       "      <td></td>\n",
       "      <td>1,453,800</td>\n",
       "      <td>135,781,000,000</td>\n",
       "      <td>170,000</td>\n",
       "      <td>16,445,500,000</td>\n",
       "      <td>93.50</td>\n",
       "      <td>94.20</td>\n",
       "      <td>92.80</td>\n",
       "      <td>0</td>\n",
       "      <td>0</td>\n",
       "      <td>0</td>\n",
       "    </tr>\n",
       "    <tr>\n",
       "      <th>3</th>\n",
       "      <td>07/09/2021</td>\n",
       "      <td>93.50</td>\n",
       "      <td>93.50</td>\n",
       "      <td>-1.40 (-1.48 %)</td>\n",
       "      <td></td>\n",
       "      <td>2,290,600</td>\n",
       "      <td>216,065,000,000</td>\n",
       "      <td>280,000</td>\n",
       "      <td>27,465,000,000</td>\n",
       "      <td>95.30</td>\n",
       "      <td>95.30</td>\n",
       "      <td>93.50</td>\n",
       "      <td>0</td>\n",
       "      <td>0</td>\n",
       "      <td>0</td>\n",
       "    </tr>\n",
       "    <tr>\n",
       "      <th>4</th>\n",
       "      <td>06/09/2021</td>\n",
       "      <td>94.90</td>\n",
       "      <td>94.90</td>\n",
       "      <td>2.50 (2.71 %)</td>\n",
       "      <td></td>\n",
       "      <td>3,124,600</td>\n",
       "      <td>291,339,000,000</td>\n",
       "      <td>50,400</td>\n",
       "      <td>4,869,168,000</td>\n",
       "      <td>92.40</td>\n",
       "      <td>94.90</td>\n",
       "      <td>92.30</td>\n",
       "      <td>0</td>\n",
       "      <td>0</td>\n",
       "      <td>0</td>\n",
       "    </tr>\n",
       "  </tbody>\n",
       "</table>\n",
       "</div>"
      ],
      "text/plain": [
       "         Ngay Gia d/c Gia dong cua         Thay doi up-down       GD-KL  \\\n",
       "0  10/09/2021  93.50        93.50     0.30 (0.32 %)          1,440,100    \n",
       "1  09/09/2021  93.20        93.20     0.10 (0.11 %)          1,393,700    \n",
       "2  08/09/2021  93.10        93.10   -0.40 (-0.43 %)          1,453,800    \n",
       "3  07/09/2021  93.50        93.50   -1.40 (-1.48 %)          2,290,600    \n",
       "4  06/09/2021  94.90        94.90     2.50 (2.71 %)          3,124,600    \n",
       "\n",
       "              GD-GT     TT-KL            TT-GT Gia mo cua Gia cao nhat  \\\n",
       "0  135,021,000,000    40,000    3,910,000,000      93.40        94.40    \n",
       "1  129,780,000,000   100,000    9,589,000,000      93.10        93.90    \n",
       "2  135,781,000,000   170,000   16,445,500,000      93.50        94.20    \n",
       "3  216,065,000,000   280,000   27,465,000,000      95.30        95.30    \n",
       "4  291,339,000,000    50,400    4,869,168,000      92.40        94.90    \n",
       "\n",
       "  Gia thap nhat C13 C14 C15  \n",
       "0        93.40    0   0   0  \n",
       "1        92.80    0   0   0  \n",
       "2        92.80    0   0   0  \n",
       "3        93.50    0   0   0  \n",
       "4        92.30    0   0   0  "
      ]
     },
     "metadata": {},
     "execution_count": 14
    }
   ],
   "metadata": {}
  }
 ],
 "metadata": {
  "orig_nbformat": 4,
  "language_info": {
   "name": "python",
   "version": "3.8.8",
   "mimetype": "text/x-python",
   "codemirror_mode": {
    "name": "ipython",
    "version": 3
   },
   "pygments_lexer": "ipython3",
   "nbconvert_exporter": "python",
   "file_extension": ".py"
  },
  "kernelspec": {
   "name": "python3",
   "display_name": "Python 3.8.8 64-bit ('base': conda)"
  },
  "interpreter": {
   "hash": "cb5e3185a046c85dd25ce0a5f4f24db93d8d41f26ad2f2bd4fc5c1ae81f2b499"
  }
 },
 "nbformat": 4,
 "nbformat_minor": 2
}